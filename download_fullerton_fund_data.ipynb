{
 "cells": [
  {
   "cell_type": "code",
   "execution_count": 1,
   "metadata": {},
   "outputs": [],
   "source": [
    "import time\n",
    "from selenium.webdriver import Firefox\n",
    "import pandas as pd"
   ]
  },
  {
   "cell_type": "code",
   "execution_count": 2,
   "metadata": {},
   "outputs": [],
   "source": [
    "driver = Firefox()"
   ]
  },
  {
   "cell_type": "code",
   "execution_count": null,
   "metadata": {},
   "outputs": [],
   "source": [
    "funds = [\n",
    "    (\n",
    "        \"https://www.fullertonfund.com/fund/fullerton-sgd-cash-fund-a/\",\n",
    "        \"data/Fullerton SGD Cash Fund A\",\n",
    "    ),\n",
    "    (\n",
    "        \"https://www.fullertonfund.com/fund/fullerton-sgd-liquidity-fund-a\",\n",
    "        \"Fullerton SGD Liquidity Fund A\",\n",
    "    ),\n",
    "]"
   ]
  },
  {
   "cell_type": "code",
   "execution_count": null,
   "metadata": {},
   "outputs": [],
   "source": [
    "for fund_url, file_name in funds:\n",
    "    driver.get(fund_url)\n",
    "\n",
    "    time.sleep(0.5)\n",
    "\n",
    "    if driver.find_elements(by=\"class name\", value=\"button-close\"):\n",
    "        driver.find_element(by=\"class name\", value=\"button-close\").click()\n",
    "\n",
    "    n_pages = int(\n",
    "        driver.find_element(\"id\", \"fund-range-history_paginate\")\n",
    "        .find_elements(\"class name\", \"paginate_button\")[-2]\n",
    "        .text\n",
    "    )\n",
    "\n",
    "    rows = []\n",
    "\n",
    "    for i in range(n_pages - 1):\n",
    "        rows.extend(\n",
    "            driver.find_element(\"id\", \"fund-range-history\").text.split(\"\\n\")[1:]\n",
    "        )\n",
    "        driver.find_element(\"id\", \"fund-range-history_next\").click()\n",
    "\n",
    "    rows.extend(driver.find_element(\"id\", \"fund-range-history\").text.split(\"\\n\")[1:])\n",
    "\n",
    "    df = pd.DataFrame(\n",
    "        pd.Series(rows[::-1]).str.split().apply(lambda x: x[:2]).to_list()\n",
    "    ).set_axis([\"date\", \"NAV\"], axis=1)\n",
    "    df[\"date\"] = pd.to_datetime(df[\"date\"], dayfirst=True)\n",
    "    df[\"NAV\"] = df[\"NAV\"].str.replace(\"$\", \"\").astype(float)\n",
    "    df.set_index(\"date\").to_csv(f\"data/{file_name}.csv\")\n",
    "\n",
    "driver.quit()"
   ]
  }
 ],
 "metadata": {
  "kernelspec": {
   "display_name": ".venv",
   "language": "python",
   "name": "python3"
  },
  "language_info": {
   "codemirror_mode": {
    "name": "ipython",
    "version": 3
   },
   "file_extension": ".py",
   "mimetype": "text/x-python",
   "name": "python",
   "nbconvert_exporter": "python",
   "pygments_lexer": "ipython3",
   "version": "3.12.7"
  },
  "orig_nbformat": 4
 },
 "nbformat": 4,
 "nbformat_minor": 2
}
