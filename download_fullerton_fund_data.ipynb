{
 "cells": [
  {
   "cell_type": "code",
   "execution_count": 1,
   "metadata": {},
   "outputs": [],
   "source": [
    "import requests\n",
    "import pandas as pd\n",
    "from io import StringIO"
   ]
  },
  {
   "cell_type": "code",
   "execution_count": 2,
   "metadata": {},
   "outputs": [],
   "source": [
    "funds = [\n",
    "    (\n",
    "        \"https://www.fullertonfund.com/fund/fullerton-sgd-cash-fund-a/\",\n",
    "        \"Fullerton SGD Cash Fund A\",\n",
    "    ),\n",
    "    (\n",
    "        \"https://www.fullertonfund.com/fund/fullerton-sgd-liquidity-fund-a\",\n",
    "        \"Fullerton SGD Liquidity Fund A\",\n",
    "    ),\n",
    "]"
   ]
  },
  {
   "cell_type": "code",
   "execution_count": 3,
   "metadata": {},
   "outputs": [],
   "source": [
    "for url, file_name in funds:\n",
    "    res = requests.get(url)\n",
    "    df = (\n",
    "        pd.read_html(StringIO(res.text))[0]\n",
    "        .drop(columns=[\"NAV Change (%)\"])\n",
    "        .set_axis([\"date\", \"NAV\"], axis=1)\n",
    "    )\n",
    "    df[\"date\"] = pd.to_datetime(df[\"date\"], dayfirst=True)\n",
    "    df[\"NAV\"] = df[\"NAV\"].str.replace(\"$\", \"\").astype(float)\n",
    "    df.set_index(\"date\").to_csv(f\"data/{file_name}.csv\")"
   ]
  }
 ],
 "metadata": {
  "kernelspec": {
   "display_name": "stock-market-returns",
   "language": "python",
   "name": "python3"
  },
  "language_info": {
   "codemirror_mode": {
    "name": "ipython",
    "version": 3
   },
   "file_extension": ".py",
   "mimetype": "text/x-python",
   "name": "python",
   "nbconvert_exporter": "python",
   "pygments_lexer": "ipython3",
   "version": "3.12.11"
  },
  "orig_nbformat": 4
 },
 "nbformat": 4,
 "nbformat_minor": 2
}
