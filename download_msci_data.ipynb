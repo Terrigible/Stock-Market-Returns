{
 "cells": [
  {
   "cell_type": "code",
   "execution_count": 1,
   "metadata": {},
   "outputs": [],
   "source": [
    "import os\n",
    "import time\n",
    "from selenium.webdriver import Firefox, FirefoxService\n",
    "from selenium.webdriver.support.select import Select\n",
    "from selenium.webdriver.support.wait import WebDriverWait\n",
    "import selenium.webdriver.support.expected_conditions as EC\n",
    "import pandas as pd"
   ]
  },
  {
   "cell_type": "code",
   "execution_count": 2,
   "metadata": {},
   "outputs": [],
   "source": [
    "indexes={\n",
    "    'WORLD': '990100',\n",
    "    'WORLD VALUE': '105868',\n",
    "    'WORLD GROWTH': '105867',\n",
    "    \n",
    "    'WORLD SMALL CAP': '106230',\n",
    "    'WORLD SMALL VALUE': '655131',\n",
    "    'WORLD SMALL GROWTH': '655236',\n",
    "    \n",
    "    'WORLD SMID CAP': '661668',\n",
    "    'WORLD SMID VALUE': '661773',\n",
    "    'WORLD SMID GROWTH': '661878',\n",
    "    \n",
    "    'WORLD MID CAP': '652555',\n",
    "    'WORLD MID VALUE': '652660',\n",
    "    'WORLD MID GROWTH': '652758',\n",
    "    \n",
    "    'WORLD LARGE CAP': '650038',\n",
    "    'WORLD LARGE VALUE': '650143',\n",
    "    'WORLD LARGE GROWTH': '650248',\n",
    "    \n",
    "    'ACWI':  '892400',\n",
    "    'ACWI VALUE': '106039',\n",
    "    'ACWI GROWTH': '106038',\n",
    "    \n",
    "    'ACWI SMALL CAP': '655045',\n",
    "    'ACWI SMALL VALUE': '655150',\n",
    "    'ACWI SMALL GROWTH': '655255',\n",
    "    \n",
    "    'ACWI SMID CAP': '661687',\n",
    "    'ACWI SMID VALUE': '661792',\n",
    "    'ACWI SMID GROWTH': '661897',\n",
    "    \n",
    "    'ACWI MID CAP': '652574',\n",
    "    'ACWI MID VALUE': '652679',\n",
    "    'ACWI MID GROWTH': '652784',\n",
    "    \n",
    "    'ACWI LARGE CAP': '650057',\n",
    "    'ACWI LARGE VALUE': '650162',\n",
    "    'ACWI LARGE GROWTH': '650267',\n",
    "    \n",
    "    'EM (EMERGING MARKETS)': '891800',\n",
    "    'EM (EMERGING MARKETS) VALUE': '106063',\n",
    "    'EM (EMERGING MARKETS) GROWTH': '106062',\n",
    "    \n",
    "    'EM (EMERGING MARKETS) SMALL CAP': '655061',\n",
    "    'EM (EMERGING MARKETS) SMALL VALUE': '655166',\n",
    "    'EM (EMERGING MARKETS) SMALL GROWTH': '655271',\n",
    "    \n",
    "    'EM (EMERGING MARKETS) SMID CAP': '661703',\n",
    "    'EM (EMERGING MARKETS) SMID VALUE': '661808',\n",
    "    'EM (EMERGING MARKETS) SMID GROWTH': '661913',\n",
    "    \n",
    "    'EM (EMERGING MARKETS) MID CAP': '652590',\n",
    "    'EM (EMERGING MARKETS) MID VALUE': '652695',\n",
    "    'EM (EMERGING MARKETS) MID GROWTH': '652800',\n",
    "    \n",
    "    'EM (EMERGING MARKETS) LARGE CAP': '650073',\n",
    "    'EM (EMERGING MARKETS) LARGE VALUE': '650178',\n",
    "    'EM (EMERGING MARKETS) LARGE GROWTH': '650283',\n",
    "    \n",
    "    'SINGAPORE': '998100',\n",
    "    'SINGAPORE VALUE': '105812',\n",
    "    'SINGAPORE GROWTH': '105811',\n",
    "    \n",
    "    'SINGAPORE SMALL CAP': '106224',\n",
    "    'SINGAPORE SMALL VALUE': '655127',\n",
    "    'SINGAPORE SMALL GROWTH': '655127',\n",
    "    \n",
    "    'SINGAPORE SMID CAP': '661664',\n",
    "    'SINGAPORE SMID VALUE': '661769',\n",
    "    'SINGAPORE SMID GROWTH': '661874',\n",
    "    \n",
    "    'SINGAPORE MID CAP': '652551',\n",
    "    'SINGAPORE MID VALUE': '652656',\n",
    "    'SINGAPORE MID GROWTH': '652761',\n",
    "    \n",
    "    'SINGAPORE LARGE CAP': '650034',\n",
    "    'SINGAPORE LARGE VALUE': '650139',\n",
    "    'SINGAPORE LARGE GROWTH': '650244',\n",
    "    \n",
    "    'USA': '984000',\n",
    "    'USA VALUE': '105826',\n",
    "    'USA GROWTH': '105825',\n",
    "    \n",
    "    'USA SMALL CAP': '106229',\n",
    "    'USA SMALL VALUE': '655133',\n",
    "    'USA SMALL GROWTH': '655238',\n",
    "    \n",
    "    'USA SMID CAP': '661670',\n",
    "    'USA SMID VALUE': '661775',\n",
    "    'USA SMID GROWTH': '661880',\n",
    "    \n",
    "    'USA MID CAP': '652557',\n",
    "    'USA MID VALUE': '652662',\n",
    "    'USA MID GROWTH': '652767',\n",
    "    \n",
    "    'USA LARGE CAP': '650040',\n",
    "    'USA LARGE VALUE': '650145',\n",
    "    'USA LARGE GROWTH': '650250',\n",
    "}"
   ]
  },
  {
   "cell_type": "code",
   "execution_count": 3,
   "metadata": {},
   "outputs": [],
   "source": [
    "price_levels = {'Gross': 'GRTR',\n",
    "                'Net': 'NETR'}"
   ]
  },
  {
   "cell_type": "code",
   "execution_count": 4,
   "metadata": {},
   "outputs": [
    {
     "data": {
      "text/plain": [
       "[('USA', '984000'),\n",
       " ('USA VALUE', '105826'),\n",
       " ('USA GROWTH', '105825'),\n",
       " ('USA SMALL CAP', '106229'),\n",
       " ('USA SMALL VALUE', '655133'),\n",
       " ('USA SMALL GROWTH', '655238'),\n",
       " ('USA SMID CAP', '661670'),\n",
       " ('USA SMID VALUE', '661775'),\n",
       " ('USA SMID GROWTH', '661880'),\n",
       " ('USA MID CAP', '652557'),\n",
       " ('USA MID VALUE', '652662'),\n",
       " ('USA MID GROWTH', '652767'),\n",
       " ('USA LARGE CAP', '650040'),\n",
       " ('USA LARGE VALUE', '650145'),\n",
       " ('USA LARGE GROWTH', '650250')]"
      ]
     },
     "execution_count": 4,
     "metadata": {},
     "output_type": "execute_result"
    }
   ],
   "source": [
    "[(key, value) for (key, value) in indexes.items()]"
   ]
  },
  {
   "cell_type": "code",
   "execution_count": 5,
   "metadata": {},
   "outputs": [],
   "source": [
    "service = FirefoxService(executable_path=\"C:\\\\Users\\\\leowy\\\\anaconda3\\\\envs\\\\market-returns\\\\Scripts\\\\geckodriver.exe\")"
   ]
  },
  {
   "cell_type": "code",
   "execution_count": 6,
   "metadata": {},
   "outputs": [],
   "source": [
    "driver = Firefox(service=service)"
   ]
  },
  {
   "cell_type": "code",
   "execution_count": 7,
   "metadata": {},
   "outputs": [],
   "source": [
    "driver.implicitly_wait(2.)"
   ]
  },
  {
   "cell_type": "code",
   "execution_count": 8,
   "metadata": {},
   "outputs": [],
   "source": [
    "for index, code in indexes.items():\n",
    "    for index_level, price_level in price_levels.items():\n",
    "        driver.get(f'https://app2.msci.com/products/index-data-search/regional_chart.jsp?currency=USD&priceLevel={price_level}&indexId={code}&indexName={index}')\n",
    "        WebDriverWait(driver, 60).until(EC.invisibility_of_element(('id', 'loading-image-graph')))\n",
    "        time.sleep(5)\n",
    "        if not os.path.exists(f'c:\\\\Users\\\\leowy\\\\Downloads\\\\MSCI {index} USD {index_level} Monthly.xls'):\n",
    "            term_field = driver.find_element('id', 'updateTermRegion')\n",
    "            term_field_select = Select(term_field)\n",
    "            term_field_select.select_by_value('Full')\n",
    "            driver.find_element('xpath', '/html/body/div[1]/div/section/div/div[4]/div[4]/div[2]/form/div/div/div[8]/div/div/button').click()\n",
    "            WebDriverWait(driver, 60).until(EC.invisibility_of_element(('id', 'loading-image-graph')))\n",
    "            time.sleep(1)\n",
    "            driver.find_element('xpath', '/html/body/div[1]/div/div/div/div[2]/p[2]/a').click()\n",
    "            for i in range(20):\n",
    "                if os.path.exists('c:\\\\Users\\\\leowy\\\\Downloads\\\\historyIndex.xls'):\n",
    "                    break\n",
    "                time.sleep(1)\n",
    "            time.sleep(1)\n",
    "            os.rename('c:\\\\Users\\\\leowy\\\\Downloads\\\\historyIndex.xls', f'c:\\\\Users\\\\leowy\\\\Downloads\\\\MSCI {index} USD {index_level} Monthly.xls')\n",
    "            frequency_field = driver.find_element('id', 'updateFrequencyRegion')\n",
    "            frequency_field_select = Select(frequency_field)\n",
    "            frequency_field_select.select_by_value('DAILY')\n",
    "        for start_date, end_date in zip(pd.date_range('2001-01-01', 'today', freq='5BAS-JAN').strftime('%b %d, %Y'),\n",
    "                                        pd.date_range('2005-01-01', 'today', freq='5BA-DEC').union(pd.date_range(pd.to_datetime('today') + pd.tseries.offsets.BMonthEnd(-1, 'D'), periods=1, freq=pd.tseries.offsets.BMonthEnd(-1, 'D'))).strftime('%b %d, %Y')):\n",
    "            if os.path.exists(f'c:\\\\Users\\\\leowy\\\\Downloads\\\\MSCI {index} USD {index_level} Daily {start_date[-4:]}-{end_date[-4:]}.xls'):\n",
    "                continue\n",
    "            start_date_field = driver.find_element('id', 'startDateFilterShow')\n",
    "            start_date_field.clear()\n",
    "            start_date_field.send_keys(start_date)\n",
    "            driver.find_element('xpath', '/html/body').click()\n",
    "            end_date_field = driver.find_element('id', 'endDateFilterShow')\n",
    "            end_date_field.clear()\n",
    "            end_date_field.send_keys(end_date)\n",
    "            driver.find_element('xpath', '/html/body').click()\n",
    "            WebDriverWait(driver, 60).until(EC.invisibility_of_element(('id', 'loading-image-graph')))\n",
    "            time.sleep(1)\n",
    "            driver.find_element('xpath', '/html/body/div[1]/div/section/div/div[4]/div[4]/div[2]/form/div/div/div[8]/div/div/button').click()\n",
    "            WebDriverWait(driver, 60).until(EC.invisibility_of_element(('id', 'loading-image-graph')))\n",
    "            time.sleep(1)\n",
    "            driver.find_element('xpath', '/html/body/div[1]/div/div/div/div[2]/p[2]/a').click()\n",
    "            for i in range(20):\n",
    "                if os.path.exists('c:\\\\Users\\\\leowy\\\\Downloads\\\\historyIndex.xls'):\n",
    "                    break\n",
    "                time.sleep(1)\n",
    "            time.sleep(1)\n",
    "            os.rename('c:\\\\Users\\\\leowy\\\\Downloads\\\\historyIndex.xls', f'c:\\\\Users\\\\leowy\\\\Downloads\\\\MSCI {index} USD {index_level} Daily {start_date[-4:]}-{end_date[-4:]}.xls')"
   ]
  },
  {
   "cell_type": "code",
   "execution_count": 9,
   "metadata": {},
   "outputs": [],
   "source": [
    "driver.quit()"
   ]
  }
 ],
 "metadata": {
  "kernelspec": {
   "display_name": "market-returns",
   "language": "python",
   "name": "python3"
  },
  "language_info": {
   "codemirror_mode": {
    "name": "ipython",
    "version": 3
   },
   "file_extension": ".py",
   "mimetype": "text/x-python",
   "name": "python",
   "nbconvert_exporter": "python",
   "pygments_lexer": "ipython3",
   "version": "3.10.13"
  },
  "orig_nbformat": 4
 },
 "nbformat": 4,
 "nbformat_minor": 2
}
