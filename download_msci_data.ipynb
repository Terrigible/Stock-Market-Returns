{
 "cells": [
  {
   "cell_type": "code",
   "execution_count": 130,
   "metadata": {},
   "outputs": [],
   "source": [
    "import os\n",
    "import time\n",
    "from selenium.webdriver import Firefox\n",
    "import pandas as pd"
   ]
  },
  {
   "cell_type": "code",
   "execution_count": 131,
   "metadata": {},
   "outputs": [],
   "source": [
    "indexes = {'WORLD': '990100',\n",
    "           'ACWI':  '892400'}"
   ]
  },
  {
   "cell_type": "code",
   "execution_count": 132,
   "metadata": {},
   "outputs": [],
   "source": [
    "price_levels = ['GRTR', 'NETR']"
   ]
  },
  {
   "cell_type": "code",
   "execution_count": 133,
   "metadata": {},
   "outputs": [],
   "source": [
    "driver = Firefox()"
   ]
  },
  {
   "cell_type": "code",
   "execution_count": 134,
   "metadata": {},
   "outputs": [],
   "source": [
    "driver.implicitly_wait(2.)"
   ]
  },
  {
   "cell_type": "code",
   "execution_count": 135,
   "metadata": {},
   "outputs": [],
   "source": [
    "driver.get('https://app2.msci.com/products/index-data-search/regional_chart.jsp?currency=USD&priceLevel=NETR&indexId=892400&indexName=ACWI')"
   ]
  },
  {
   "cell_type": "code",
   "execution_count": 136,
   "metadata": {},
   "outputs": [],
   "source": [
    "time.sleep(3)"
   ]
  },
  {
   "cell_type": "code",
   "execution_count": 137,
   "metadata": {},
   "outputs": [],
   "source": [
    "for start_date, end_date in zip(pd.date_range('2001-01-01', 'today', freq='5BAS-JAN').strftime('%b %d, %Y'),\n",
    "                                pd.date_range('2005-01-01', 'today', freq='5BA-DEC').union(pd.date_range(pd.to_datetime('today') + pd.tseries.offsets.BMonthEnd(-1, 'D'), periods=1, freq=pd.tseries.offsets.BMonthEnd(-1, 'D'))).strftime('%b %d, %Y')):\n",
    "    start_date_field = driver.find_element('id', 'startDateFilterShow')\n",
    "    start_date_field.clear()\n",
    "    start_date_field.send_keys(start_date)\n",
    "    driver.find_element('xpath', '/html/body').click()\n",
    "    end_date_field = driver.find_element('id', 'endDateFilterShow')\n",
    "    end_date_field.clear()\n",
    "    end_date_field.send_keys(end_date)\n",
    "    driver.find_element('xpath', '/html/body').click()\n",
    "    time.sleep(1)\n",
    "    driver.find_element('xpath', '/html/body/div[1]/div/section/div/div[4]/div[4]/div[2]/form/div/div/div[8]/div/div/button').click()\n",
    "    driver.find_element('xpath', '/html/body').click()\n",
    "    time.sleep(3)\n",
    "    driver.find_element('xpath', '/html/body/div[1]/div/div/div/div[2]/p[2]/a').click()\n",
    "    time.sleep(5)\n",
    "    os.rename('c:\\\\Users\\\\leowy\\\\Downloads\\\\historyIndex.xls', f'c:\\\\Users\\\\leowy\\\\Downloads\\\\MSCI ACWI USD Net Daily {start_date[-4:]}-{end_date[-4:]}.xls')"
   ]
  },
  {
   "cell_type": "code",
   "execution_count": 138,
   "metadata": {},
   "outputs": [],
   "source": [
    "driver.quit()"
   ]
  }
 ],
 "metadata": {
  "kernelspec": {
   "display_name": "market-returns",
   "language": "python",
   "name": "python3"
  },
  "language_info": {
   "codemirror_mode": {
    "name": "ipython",
    "version": 3
   },
   "file_extension": ".py",
   "mimetype": "text/x-python",
   "name": "python",
   "nbconvert_exporter": "python",
   "pygments_lexer": "ipython3",
   "version": "3.10.12"
  },
  "orig_nbformat": 4
 },
 "nbformat": 4,
 "nbformat_minor": 2
}
