{
 "cells": [
  {
   "cell_type": "code",
   "execution_count": 1,
   "metadata": {},
   "outputs": [],
   "source": [
    "import os\n",
    "import time\n",
    "from selenium.webdriver import Firefox, FirefoxOptions\n",
    "from selenium.webdriver.support.select import Select"
   ]
  },
  {
   "cell_type": "code",
   "execution_count": 2,
   "metadata": {},
   "outputs": [],
   "source": [
    "options = FirefoxOptions()"
   ]
  },
  {
   "cell_type": "code",
   "execution_count": 3,
   "metadata": {},
   "outputs": [],
   "source": [
    "options.set_preference(\"browser.download.manager.showWhenStarting\", False)\n",
    "options.set_preference(\"browser.download.folderList\", 2)\n",
    "options.set_preference(\"browser.download.dir\", os.path.join(os.getcwd(), \"data\"))"
   ]
  },
  {
   "cell_type": "code",
   "execution_count": 4,
   "metadata": {},
   "outputs": [],
   "source": [
    "driver = Firefox(options=options)"
   ]
  },
  {
   "cell_type": "code",
   "execution_count": 13,
   "metadata": {},
   "outputs": [],
   "source": [
    "driver.get(\n",
    "    \"https://eservices.mas.gov.sg/statistics/fdanet/BenchmarkPricesAndYields.aspx\"\n",
    ")"
   ]
  },
  {
   "cell_type": "code",
   "execution_count": 14,
   "metadata": {},
   "outputs": [],
   "source": [
    "os.remove(\n",
    "    os.path.join(\n",
    "        os.getcwd(), \"data\", \"SGS - Historical Prices and Yields - Benchmark Issues.csv\"\n",
    "    )\n",
    ")"
   ]
  },
  {
   "cell_type": "code",
   "execution_count": 15,
   "metadata": {},
   "outputs": [],
   "source": [
    "Select(\n",
    "    driver.find_element(\"id\", \"ContentPlaceHolder1_StartYearDropDownList\")\n",
    ").select_by_value(\"1988\")\n",
    "Select(\n",
    "    driver.find_element(\"id\", \"ContentPlaceHolder1_StartMonthDropDownList\")\n",
    ").select_by_value(\"1\")\n",
    "\n",
    "Select(\n",
    "    driver.find_element(\"id\", \"ContentPlaceHolder1_EndYearDropDownList\")\n",
    ").select_by_value(f\"{time.localtime().tm_year}\")\n",
    "\n",
    "Select(\n",
    "    driver.find_element(\"id\", \"ContentPlaceHolder1_EndMonthDropDownList\")\n",
    ").select_by_value(\"12\")\n",
    "\n",
    "Select(\n",
    "    driver.find_element(\"id\", \"ContentPlaceHolder1_FrequencyDropDownList\")\n",
    ").select_by_value(\"D\")"
   ]
  },
  {
   "cell_type": "code",
   "execution_count": 16,
   "metadata": {},
   "outputs": [],
   "source": [
    "for box in (6, 7, 8, 9, 10, 13, 14, 15, 16, 17, 18, 19, 20, 21, 22):\n",
    "    driver.find_element(\n",
    "        \"xpath\",\n",
    "        f\"/html/body/main/section/div/div/div/form/main/div[1]/div/div[3]/div[2]/span[{box}]/label\",\n",
    "    ).click()"
   ]
  },
  {
   "cell_type": "code",
   "execution_count": 17,
   "metadata": {},
   "outputs": [],
   "source": [
    "driver.find_element(\"id\", \"ContentPlaceHolder1_DownloadButton\").click()"
   ]
  },
  {
   "cell_type": "code",
   "execution_count": 18,
   "metadata": {},
   "outputs": [],
   "source": [
    "for i in range(50):\n",
    "    time.sleep(0.1)\n",
    "    if os.path.exists(\n",
    "        os.path.join(\n",
    "            os.getcwd(),\n",
    "            \"data\",\n",
    "            \"SGS - Historical Prices and Yields - Benchmark Issues.csv\",\n",
    "        )\n",
    "    ):\n",
    "        break\n",
    "else:\n",
    "    raise RuntimeError(\"Download failed\")"
   ]
  },
  {
   "cell_type": "code",
   "execution_count": 19,
   "metadata": {},
   "outputs": [],
   "source": [
    "driver.quit()"
   ]
  }
 ],
 "metadata": {
  "kernelspec": {
   "display_name": ".venv",
   "language": "python",
   "name": "python3"
  },
  "language_info": {
   "codemirror_mode": {
    "name": "ipython",
    "version": 3
   },
   "file_extension": ".py",
   "mimetype": "text/x-python",
   "name": "python",
   "nbconvert_exporter": "python",
   "pygments_lexer": "ipython3",
   "version": "3.12.11"
  }
 },
 "nbformat": 4,
 "nbformat_minor": 2
}
