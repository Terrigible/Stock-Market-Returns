{
 "cells": [
  {
   "cell_type": "code",
   "execution_count": 1,
   "metadata": {},
   "outputs": [],
   "source": [
    "import pandas as pd\n",
    "import plotly.graph_objects as go\n",
    "\n",
    "from funcs.loaders import *"
   ]
  },
  {
   "cell_type": "code",
   "execution_count": 2,
   "metadata": {},
   "outputs": [],
   "source": [
    "pd.set_option(\"plotting.backend\", \"plotly\")"
   ]
  },
  {
   "cell_type": "code",
   "execution_count": 3,
   "metadata": {},
   "outputs": [],
   "source": [
    "msci_world_gross = read_msci_data(\n",
    "    \"data/MSCI/WORLD/STANDARD/BLEND/MSCI WORLD USD Gross Monthly*.csv\"\n",
    ")"
   ]
  },
  {
   "cell_type": "code",
   "execution_count": 4,
   "metadata": {},
   "outputs": [],
   "source": [
    "msci_world_net = read_msci_data(\n",
    "    \"data/MSCI/WORLD/STANDARD/BLEND/MSCI WORLD USD Net Monthly*.csv\"\n",
    ")"
   ]
  },
  {
   "cell_type": "code",
   "execution_count": 5,
   "metadata": {},
   "outputs": [],
   "source": [
    "msci_world = (\n",
    "    msci_world_gross.merge(msci_world_net, on=\"date\")\n",
    "    .pct_change()\n",
    "    .mean(axis=1)\n",
    "    .rename(\"price\")\n",
    "    .reset_index()\n",
    "    .set_index(\"date\")\n",
    "    .add(1)\n",
    "    .cumprod()\n",
    "    .mul(100)\n",
    "    .fillna(100)\n",
    ")"
   ]
  },
  {
   "cell_type": "code",
   "execution_count": 6,
   "metadata": {},
   "outputs": [],
   "source": [
    "sti = read_ft_data(\"Straits Times Index USD Gross\")"
   ]
  },
  {
   "cell_type": "code",
   "execution_count": 7,
   "metadata": {},
   "outputs": [],
   "source": [
    "sti_1m = sti.resample(\"BME\").last().iloc[:-1]"
   ]
  },
  {
   "cell_type": "code",
   "execution_count": 8,
   "metadata": {},
   "outputs": [],
   "source": [
    "fed_funds_rate, fed_funds_rate_1m = load_fed_funds_rate()"
   ]
  },
  {
   "cell_type": "code",
   "execution_count": 9,
   "metadata": {},
   "outputs": [],
   "source": [
    "sp500_gross = read_ft_data(\"S&P 500 USD Gross\")"
   ]
  },
  {
   "cell_type": "code",
   "execution_count": 10,
   "metadata": {},
   "outputs": [],
   "source": [
    "sp500_net = read_ft_data(\"S&P 500 USD Net\")"
   ]
  },
  {
   "cell_type": "code",
   "execution_count": 11,
   "metadata": {},
   "outputs": [],
   "source": [
    "shiller_sp500 = read_shiller_sp500_data(\"Net\")"
   ]
  },
  {
   "cell_type": "code",
   "execution_count": 12,
   "metadata": {},
   "outputs": [],
   "source": [
    "usdsgd = load_usdsgd()"
   ]
  },
  {
   "cell_type": "code",
   "execution_count": 13,
   "metadata": {},
   "outputs": [],
   "source": [
    "usd_fx = await load_fred_usd_fx_async()"
   ]
  },
  {
   "cell_type": "code",
   "execution_count": 14,
   "metadata": {},
   "outputs": [],
   "source": [
    "sgd_fx = load_mas_sgd_fx()"
   ]
  },
  {
   "cell_type": "code",
   "execution_count": 15,
   "metadata": {},
   "outputs": [],
   "source": [
    "sgd_interest_rates, sgd_interest_rates_1m = load_sgd_interest_rates()"
   ]
  },
  {
   "cell_type": "code",
   "execution_count": 16,
   "metadata": {},
   "outputs": [],
   "source": [
    "sgd_neer = load_sgd_neer()"
   ]
  },
  {
   "cell_type": "code",
   "execution_count": 17,
   "metadata": {},
   "outputs": [],
   "source": [
    "usd_sgd_swap_points = load_mas_swap_points()"
   ]
  },
  {
   "cell_type": "code",
   "execution_count": 18,
   "metadata": {},
   "outputs": [],
   "source": [
    "sg_cpi = load_sg_cpi()"
   ]
  },
  {
   "cell_type": "code",
   "execution_count": 19,
   "metadata": {},
   "outputs": [],
   "source": [
    "us_cpi = await load_us_cpi_async()"
   ]
  },
  {
   "cell_type": "code",
   "execution_count": 20,
   "metadata": {},
   "outputs": [],
   "source": [
    "msci_world = msci_world.merge(\n",
    "    fed_funds_rate_1m, left_index=True, right_index=True, how=\"left\"\n",
    ")\n"
   ]
  },
  {
   "cell_type": "code",
   "execution_count": 21,
   "metadata": {},
   "outputs": [],
   "source": [
    "msci_world = msci_world.merge(\n",
    "    sgd_interest_rates_1m[\"sgd_ir_1m\"], left_index=True, right_index=True, how=\"left\"\n",
    ")\n"
   ]
  },
  {
   "cell_type": "code",
   "execution_count": 22,
   "metadata": {},
   "outputs": [],
   "source": [
    "periods = [\"1m\", \"3m\", \"6m\", \"1y\", \"2y\", \"3y\", \"5y\", \"10y\", \"15y\", \"20y\", \"25y\", \"30y\"]\n",
    "durations = [1, 3, 6, 12, 24, 36, 60, 120, 180, 240, 300, 360]"
   ]
  },
  {
   "cell_type": "code",
   "execution_count": 23,
   "metadata": {},
   "outputs": [],
   "source": [
    "add_return_columns(msci_world, periods, durations)"
   ]
  },
  {
   "cell_type": "code",
   "execution_count": 24,
   "metadata": {},
   "outputs": [],
   "source": [
    "add_return_columns(sti_1m, periods, durations)"
   ]
  },
  {
   "cell_type": "code",
   "execution_count": 25,
   "metadata": {},
   "outputs": [],
   "source": [
    "add_return_columns(shiller_sp500, periods, durations)"
   ]
  },
  {
   "cell_type": "code",
   "execution_count": 26,
   "metadata": {},
   "outputs": [
    {
     "data": {
      "text/html": [
       "<div>\n",
       "<style scoped>\n",
       "    .dataframe tbody tr th:only-of-type {\n",
       "        vertical-align: middle;\n",
       "    }\n",
       "\n",
       "    .dataframe tbody tr th {\n",
       "        vertical-align: top;\n",
       "    }\n",
       "\n",
       "    .dataframe thead th {\n",
       "        text-align: right;\n",
       "    }\n",
       "</style>\n",
       "<table border=\"1\" class=\"dataframe\">\n",
       "  <thead>\n",
       "    <tr style=\"text-align: right;\">\n",
       "      <th></th>\n",
       "      <th>price</th>\n",
       "      <th>ffr</th>\n",
       "      <th>sgd_ir_1m</th>\n",
       "      <th>1m_cumulative</th>\n",
       "      <th>3m_cumulative</th>\n",
       "      <th>6m_cumulative</th>\n",
       "      <th>1y_cumulative</th>\n",
       "      <th>2y_cumulative</th>\n",
       "      <th>3y_cumulative</th>\n",
       "      <th>5y_cumulative</th>\n",
       "      <th>...</th>\n",
       "      <th>6m_annualized</th>\n",
       "      <th>1y_annualized</th>\n",
       "      <th>2y_annualized</th>\n",
       "      <th>3y_annualized</th>\n",
       "      <th>5y_annualized</th>\n",
       "      <th>10y_annualized</th>\n",
       "      <th>15y_annualized</th>\n",
       "      <th>20y_annualized</th>\n",
       "      <th>25y_annualized</th>\n",
       "      <th>30y_annualized</th>\n",
       "    </tr>\n",
       "    <tr>\n",
       "      <th>date</th>\n",
       "      <th></th>\n",
       "      <th></th>\n",
       "      <th></th>\n",
       "      <th></th>\n",
       "      <th></th>\n",
       "      <th></th>\n",
       "      <th></th>\n",
       "      <th></th>\n",
       "      <th></th>\n",
       "      <th></th>\n",
       "      <th></th>\n",
       "      <th></th>\n",
       "      <th></th>\n",
       "      <th></th>\n",
       "      <th></th>\n",
       "      <th></th>\n",
       "      <th></th>\n",
       "      <th></th>\n",
       "      <th></th>\n",
       "      <th></th>\n",
       "      <th></th>\n",
       "    </tr>\n",
       "  </thead>\n",
       "  <tbody>\n",
       "    <tr>\n",
       "      <th>1969-12-31</th>\n",
       "      <td>100.000000</td>\n",
       "      <td>10.391636</td>\n",
       "      <td>NaN</td>\n",
       "      <td>NaN</td>\n",
       "      <td>NaN</td>\n",
       "      <td>NaN</td>\n",
       "      <td>NaN</td>\n",
       "      <td>NaN</td>\n",
       "      <td>NaN</td>\n",
       "      <td>NaN</td>\n",
       "      <td>...</td>\n",
       "      <td>NaN</td>\n",
       "      <td>NaN</td>\n",
       "      <td>NaN</td>\n",
       "      <td>NaN</td>\n",
       "      <td>NaN</td>\n",
       "      <td>NaN</td>\n",
       "      <td>NaN</td>\n",
       "      <td>NaN</td>\n",
       "      <td>NaN</td>\n",
       "      <td>NaN</td>\n",
       "    </tr>\n",
       "    <tr>\n",
       "      <th>1970-01-30</th>\n",
       "      <td>94.491500</td>\n",
       "      <td>9.376079</td>\n",
       "      <td>NaN</td>\n",
       "      <td>-0.055085</td>\n",
       "      <td>NaN</td>\n",
       "      <td>NaN</td>\n",
       "      <td>NaN</td>\n",
       "      <td>NaN</td>\n",
       "      <td>NaN</td>\n",
       "      <td>NaN</td>\n",
       "      <td>...</td>\n",
       "      <td>NaN</td>\n",
       "      <td>NaN</td>\n",
       "      <td>NaN</td>\n",
       "      <td>NaN</td>\n",
       "      <td>NaN</td>\n",
       "      <td>NaN</td>\n",
       "      <td>NaN</td>\n",
       "      <td>NaN</td>\n",
       "      <td>NaN</td>\n",
       "      <td>NaN</td>\n",
       "    </tr>\n",
       "    <tr>\n",
       "      <th>1970-02-27</th>\n",
       "      <td>97.481485</td>\n",
       "      <td>8.771530</td>\n",
       "      <td>NaN</td>\n",
       "      <td>0.031643</td>\n",
       "      <td>NaN</td>\n",
       "      <td>NaN</td>\n",
       "      <td>NaN</td>\n",
       "      <td>NaN</td>\n",
       "      <td>NaN</td>\n",
       "      <td>NaN</td>\n",
       "      <td>...</td>\n",
       "      <td>NaN</td>\n",
       "      <td>NaN</td>\n",
       "      <td>NaN</td>\n",
       "      <td>NaN</td>\n",
       "      <td>NaN</td>\n",
       "      <td>NaN</td>\n",
       "      <td>NaN</td>\n",
       "      <td>NaN</td>\n",
       "      <td>NaN</td>\n",
       "      <td>NaN</td>\n",
       "    </tr>\n",
       "    <tr>\n",
       "      <th>1970-03-31</th>\n",
       "      <td>97.827451</td>\n",
       "      <td>8.657911</td>\n",
       "      <td>NaN</td>\n",
       "      <td>0.003549</td>\n",
       "      <td>-0.021725</td>\n",
       "      <td>NaN</td>\n",
       "      <td>NaN</td>\n",
       "      <td>NaN</td>\n",
       "      <td>NaN</td>\n",
       "      <td>NaN</td>\n",
       "      <td>...</td>\n",
       "      <td>NaN</td>\n",
       "      <td>NaN</td>\n",
       "      <td>NaN</td>\n",
       "      <td>NaN</td>\n",
       "      <td>NaN</td>\n",
       "      <td>NaN</td>\n",
       "      <td>NaN</td>\n",
       "      <td>NaN</td>\n",
       "      <td>NaN</td>\n",
       "      <td>NaN</td>\n",
       "    </tr>\n",
       "    <tr>\n",
       "      <th>1970-04-30</th>\n",
       "      <td>88.727406</td>\n",
       "      <td>8.432125</td>\n",
       "      <td>NaN</td>\n",
       "      <td>-0.093021</td>\n",
       "      <td>-0.061001</td>\n",
       "      <td>NaN</td>\n",
       "      <td>NaN</td>\n",
       "      <td>NaN</td>\n",
       "      <td>NaN</td>\n",
       "      <td>NaN</td>\n",
       "      <td>...</td>\n",
       "      <td>NaN</td>\n",
       "      <td>NaN</td>\n",
       "      <td>NaN</td>\n",
       "      <td>NaN</td>\n",
       "      <td>NaN</td>\n",
       "      <td>NaN</td>\n",
       "      <td>NaN</td>\n",
       "      <td>NaN</td>\n",
       "      <td>NaN</td>\n",
       "      <td>NaN</td>\n",
       "    </tr>\n",
       "    <tr>\n",
       "      <th>1970-05-29</th>\n",
       "      <td>83.173339</td>\n",
       "      <td>7.988168</td>\n",
       "      <td>NaN</td>\n",
       "      <td>-0.062597</td>\n",
       "      <td>-0.146778</td>\n",
       "      <td>NaN</td>\n",
       "      <td>NaN</td>\n",
       "      <td>NaN</td>\n",
       "      <td>NaN</td>\n",
       "      <td>NaN</td>\n",
       "      <td>...</td>\n",
       "      <td>NaN</td>\n",
       "      <td>NaN</td>\n",
       "      <td>NaN</td>\n",
       "      <td>NaN</td>\n",
       "      <td>NaN</td>\n",
       "      <td>NaN</td>\n",
       "      <td>NaN</td>\n",
       "      <td>NaN</td>\n",
       "      <td>NaN</td>\n",
       "      <td>NaN</td>\n",
       "    </tr>\n",
       "    <tr>\n",
       "      <th>1970-06-30</th>\n",
       "      <td>81.167249</td>\n",
       "      <td>8.469048</td>\n",
       "      <td>NaN</td>\n",
       "      <td>-0.024119</td>\n",
       "      <td>-0.170302</td>\n",
       "      <td>-0.188328</td>\n",
       "      <td>NaN</td>\n",
       "      <td>NaN</td>\n",
       "      <td>NaN</td>\n",
       "      <td>NaN</td>\n",
       "      <td>...</td>\n",
       "      <td>-0.341188</td>\n",
       "      <td>NaN</td>\n",
       "      <td>NaN</td>\n",
       "      <td>NaN</td>\n",
       "      <td>NaN</td>\n",
       "      <td>NaN</td>\n",
       "      <td>NaN</td>\n",
       "      <td>NaN</td>\n",
       "      <td>NaN</td>\n",
       "      <td>NaN</td>\n",
       "    </tr>\n",
       "    <tr>\n",
       "      <th>1970-07-31</th>\n",
       "      <td>86.244611</td>\n",
       "      <td>7.739472</td>\n",
       "      <td>NaN</td>\n",
       "      <td>0.062554</td>\n",
       "      <td>-0.027982</td>\n",
       "      <td>-0.087277</td>\n",
       "      <td>NaN</td>\n",
       "      <td>NaN</td>\n",
       "      <td>NaN</td>\n",
       "      <td>NaN</td>\n",
       "      <td>...</td>\n",
       "      <td>-0.166936</td>\n",
       "      <td>NaN</td>\n",
       "      <td>NaN</td>\n",
       "      <td>NaN</td>\n",
       "      <td>NaN</td>\n",
       "      <td>NaN</td>\n",
       "      <td>NaN</td>\n",
       "      <td>NaN</td>\n",
       "      <td>NaN</td>\n",
       "      <td>NaN</td>\n",
       "    </tr>\n",
       "    <tr>\n",
       "      <th>1970-08-31</th>\n",
       "      <td>89.130958</td>\n",
       "      <td>7.074040</td>\n",
       "      <td>NaN</td>\n",
       "      <td>0.033467</td>\n",
       "      <td>0.071629</td>\n",
       "      <td>-0.085663</td>\n",
       "      <td>NaN</td>\n",
       "      <td>NaN</td>\n",
       "      <td>NaN</td>\n",
       "      <td>NaN</td>\n",
       "      <td>...</td>\n",
       "      <td>-0.163987</td>\n",
       "      <td>NaN</td>\n",
       "      <td>NaN</td>\n",
       "      <td>NaN</td>\n",
       "      <td>NaN</td>\n",
       "      <td>NaN</td>\n",
       "      <td>NaN</td>\n",
       "      <td>NaN</td>\n",
       "      <td>NaN</td>\n",
       "      <td>NaN</td>\n",
       "    </tr>\n",
       "    <tr>\n",
       "      <th>1970-09-30</th>\n",
       "      <td>92.051783</td>\n",
       "      <td>6.491091</td>\n",
       "      <td>NaN</td>\n",
       "      <td>0.032770</td>\n",
       "      <td>0.134100</td>\n",
       "      <td>-0.059039</td>\n",
       "      <td>NaN</td>\n",
       "      <td>NaN</td>\n",
       "      <td>NaN</td>\n",
       "      <td>NaN</td>\n",
       "      <td>...</td>\n",
       "      <td>-0.114593</td>\n",
       "      <td>NaN</td>\n",
       "      <td>NaN</td>\n",
       "      <td>NaN</td>\n",
       "      <td>NaN</td>\n",
       "      <td>NaN</td>\n",
       "      <td>NaN</td>\n",
       "      <td>NaN</td>\n",
       "      <td>NaN</td>\n",
       "      <td>NaN</td>\n",
       "    </tr>\n",
       "  </tbody>\n",
       "</table>\n",
       "<p>10 rows × 27 columns</p>\n",
       "</div>"
      ],
      "text/plain": [
       "                 price        ffr  sgd_ir_1m  1m_cumulative  3m_cumulative  \\\n",
       "date                                                                         \n",
       "1969-12-31  100.000000  10.391636        NaN            NaN            NaN   \n",
       "1970-01-30   94.491500   9.376079        NaN      -0.055085            NaN   \n",
       "1970-02-27   97.481485   8.771530        NaN       0.031643            NaN   \n",
       "1970-03-31   97.827451   8.657911        NaN       0.003549      -0.021725   \n",
       "1970-04-30   88.727406   8.432125        NaN      -0.093021      -0.061001   \n",
       "1970-05-29   83.173339   7.988168        NaN      -0.062597      -0.146778   \n",
       "1970-06-30   81.167249   8.469048        NaN      -0.024119      -0.170302   \n",
       "1970-07-31   86.244611   7.739472        NaN       0.062554      -0.027982   \n",
       "1970-08-31   89.130958   7.074040        NaN       0.033467       0.071629   \n",
       "1970-09-30   92.051783   6.491091        NaN       0.032770       0.134100   \n",
       "\n",
       "            6m_cumulative  1y_cumulative  2y_cumulative  3y_cumulative  \\\n",
       "date                                                                     \n",
       "1969-12-31            NaN            NaN            NaN            NaN   \n",
       "1970-01-30            NaN            NaN            NaN            NaN   \n",
       "1970-02-27            NaN            NaN            NaN            NaN   \n",
       "1970-03-31            NaN            NaN            NaN            NaN   \n",
       "1970-04-30            NaN            NaN            NaN            NaN   \n",
       "1970-05-29            NaN            NaN            NaN            NaN   \n",
       "1970-06-30      -0.188328            NaN            NaN            NaN   \n",
       "1970-07-31      -0.087277            NaN            NaN            NaN   \n",
       "1970-08-31      -0.085663            NaN            NaN            NaN   \n",
       "1970-09-30      -0.059039            NaN            NaN            NaN   \n",
       "\n",
       "            5y_cumulative  ...  6m_annualized  1y_annualized  2y_annualized  \\\n",
       "date                       ...                                                \n",
       "1969-12-31            NaN  ...            NaN            NaN            NaN   \n",
       "1970-01-30            NaN  ...            NaN            NaN            NaN   \n",
       "1970-02-27            NaN  ...            NaN            NaN            NaN   \n",
       "1970-03-31            NaN  ...            NaN            NaN            NaN   \n",
       "1970-04-30            NaN  ...            NaN            NaN            NaN   \n",
       "1970-05-29            NaN  ...            NaN            NaN            NaN   \n",
       "1970-06-30            NaN  ...      -0.341188            NaN            NaN   \n",
       "1970-07-31            NaN  ...      -0.166936            NaN            NaN   \n",
       "1970-08-31            NaN  ...      -0.163987            NaN            NaN   \n",
       "1970-09-30            NaN  ...      -0.114593            NaN            NaN   \n",
       "\n",
       "            3y_annualized  5y_annualized  10y_annualized  15y_annualized  \\\n",
       "date                                                                       \n",
       "1969-12-31            NaN            NaN             NaN             NaN   \n",
       "1970-01-30            NaN            NaN             NaN             NaN   \n",
       "1970-02-27            NaN            NaN             NaN             NaN   \n",
       "1970-03-31            NaN            NaN             NaN             NaN   \n",
       "1970-04-30            NaN            NaN             NaN             NaN   \n",
       "1970-05-29            NaN            NaN             NaN             NaN   \n",
       "1970-06-30            NaN            NaN             NaN             NaN   \n",
       "1970-07-31            NaN            NaN             NaN             NaN   \n",
       "1970-08-31            NaN            NaN             NaN             NaN   \n",
       "1970-09-30            NaN            NaN             NaN             NaN   \n",
       "\n",
       "            20y_annualized  25y_annualized  30y_annualized  \n",
       "date                                                        \n",
       "1969-12-31             NaN             NaN             NaN  \n",
       "1970-01-30             NaN             NaN             NaN  \n",
       "1970-02-27             NaN             NaN             NaN  \n",
       "1970-03-31             NaN             NaN             NaN  \n",
       "1970-04-30             NaN             NaN             NaN  \n",
       "1970-05-29             NaN             NaN             NaN  \n",
       "1970-06-30             NaN             NaN             NaN  \n",
       "1970-07-31             NaN             NaN             NaN  \n",
       "1970-08-31             NaN             NaN             NaN  \n",
       "1970-09-30             NaN             NaN             NaN  \n",
       "\n",
       "[10 rows x 27 columns]"
      ]
     },
     "execution_count": 26,
     "metadata": {},
     "output_type": "execute_result"
    }
   ],
   "source": [
    "msci_world.head(10)"
   ]
  },
  {
   "cell_type": "code",
   "execution_count": 27,
   "metadata": {},
   "outputs": [
    {
     "data": {
      "text/html": [
       "<div>\n",
       "<style scoped>\n",
       "    .dataframe tbody tr th:only-of-type {\n",
       "        vertical-align: middle;\n",
       "    }\n",
       "\n",
       "    .dataframe tbody tr th {\n",
       "        vertical-align: top;\n",
       "    }\n",
       "\n",
       "    .dataframe thead th {\n",
       "        text-align: right;\n",
       "    }\n",
       "</style>\n",
       "<table border=\"1\" class=\"dataframe\">\n",
       "  <thead>\n",
       "    <tr style=\"text-align: right;\">\n",
       "      <th></th>\n",
       "      <th>price</th>\n",
       "      <th>ffr</th>\n",
       "      <th>sgd_ir_1m</th>\n",
       "      <th>1m_cumulative</th>\n",
       "      <th>3m_cumulative</th>\n",
       "      <th>6m_cumulative</th>\n",
       "      <th>1y_cumulative</th>\n",
       "      <th>2y_cumulative</th>\n",
       "      <th>3y_cumulative</th>\n",
       "      <th>5y_cumulative</th>\n",
       "      <th>...</th>\n",
       "      <th>6m_annualized</th>\n",
       "      <th>1y_annualized</th>\n",
       "      <th>2y_annualized</th>\n",
       "      <th>3y_annualized</th>\n",
       "      <th>5y_annualized</th>\n",
       "      <th>10y_annualized</th>\n",
       "      <th>15y_annualized</th>\n",
       "      <th>20y_annualized</th>\n",
       "      <th>25y_annualized</th>\n",
       "      <th>30y_annualized</th>\n",
       "    </tr>\n",
       "  </thead>\n",
       "  <tbody>\n",
       "    <tr>\n",
       "      <th>count</th>\n",
       "      <td>669.000000</td>\n",
       "      <td>669.000000</td>\n",
       "      <td>452.000000</td>\n",
       "      <td>668.000000</td>\n",
       "      <td>666.000000</td>\n",
       "      <td>663.000000</td>\n",
       "      <td>657.000000</td>\n",
       "      <td>645.000000</td>\n",
       "      <td>633.000000</td>\n",
       "      <td>609.000000</td>\n",
       "      <td>...</td>\n",
       "      <td>663.000000</td>\n",
       "      <td>657.000000</td>\n",
       "      <td>645.000000</td>\n",
       "      <td>633.000000</td>\n",
       "      <td>609.000000</td>\n",
       "      <td>549.000000</td>\n",
       "      <td>489.000000</td>\n",
       "      <td>429.000000</td>\n",
       "      <td>369.000000</td>\n",
       "      <td>309.000000</td>\n",
       "    </tr>\n",
       "    <tr>\n",
       "      <th>mean</th>\n",
       "      <td>3003.434310</td>\n",
       "      <td>5.190652</td>\n",
       "      <td>1.757206</td>\n",
       "      <td>0.008575</td>\n",
       "      <td>0.026191</td>\n",
       "      <td>0.053569</td>\n",
       "      <td>0.111358</td>\n",
       "      <td>0.231593</td>\n",
       "      <td>0.356229</td>\n",
       "      <td>0.667967</td>\n",
       "      <td>...</td>\n",
       "      <td>0.122969</td>\n",
       "      <td>0.111358</td>\n",
       "      <td>0.102964</td>\n",
       "      <td>0.098406</td>\n",
       "      <td>0.097709</td>\n",
       "      <td>0.098097</td>\n",
       "      <td>0.098233</td>\n",
       "      <td>0.095546</td>\n",
       "      <td>0.094226</td>\n",
       "      <td>0.094452</td>\n",
       "    </tr>\n",
       "    <tr>\n",
       "      <th>std</th>\n",
       "      <td>3435.685727</td>\n",
       "      <td>4.204810</td>\n",
       "      <td>1.634039</td>\n",
       "      <td>0.042819</td>\n",
       "      <td>0.076683</td>\n",
       "      <td>0.113940</td>\n",
       "      <td>0.170061</td>\n",
       "      <td>0.271334</td>\n",
       "      <td>0.360934</td>\n",
       "      <td>0.598102</td>\n",
       "      <td>...</td>\n",
       "      <td>0.237800</td>\n",
       "      <td>0.170061</td>\n",
       "      <td>0.122827</td>\n",
       "      <td>0.096989</td>\n",
       "      <td>0.073412</td>\n",
       "      <td>0.046679</td>\n",
       "      <td>0.040121</td>\n",
       "      <td>0.031586</td>\n",
       "      <td>0.025183</td>\n",
       "      <td>0.016342</td>\n",
       "    </tr>\n",
       "    <tr>\n",
       "      <th>min</th>\n",
       "      <td>81.167249</td>\n",
       "      <td>0.048345</td>\n",
       "      <td>0.016769</td>\n",
       "      <td>-0.189471</td>\n",
       "      <td>-0.331688</td>\n",
       "      <td>-0.434646</td>\n",
       "      <td>-0.469420</td>\n",
       "      <td>-0.470921</td>\n",
       "      <td>-0.453187</td>\n",
       "      <td>-0.246839</td>\n",
       "      <td>...</td>\n",
       "      <td>-0.680375</td>\n",
       "      <td>-0.469420</td>\n",
       "      <td>-0.272622</td>\n",
       "      <td>-0.182264</td>\n",
       "      <td>-0.055118</td>\n",
       "      <td>-0.023284</td>\n",
       "      <td>0.030301</td>\n",
       "      <td>0.034885</td>\n",
       "      <td>0.058008</td>\n",
       "      <td>0.067044</td>\n",
       "    </tr>\n",
       "    <tr>\n",
       "      <th>25%</th>\n",
       "      <td>293.447032</td>\n",
       "      <td>1.615204</td>\n",
       "      <td>0.327764</td>\n",
       "      <td>-0.016208</td>\n",
       "      <td>-0.011036</td>\n",
       "      <td>-0.009577</td>\n",
       "      <td>0.014624</td>\n",
       "      <td>0.085370</td>\n",
       "      <td>0.178263</td>\n",
       "      <td>0.249080</td>\n",
       "      <td>...</td>\n",
       "      <td>-0.019063</td>\n",
       "      <td>0.014624</td>\n",
       "      <td>0.041811</td>\n",
       "      <td>0.056203</td>\n",
       "      <td>0.045486</td>\n",
       "      <td>0.069753</td>\n",
       "      <td>0.064648</td>\n",
       "      <td>0.069040</td>\n",
       "      <td>0.070635</td>\n",
       "      <td>0.079775</td>\n",
       "    </tr>\n",
       "    <tr>\n",
       "      <th>50%</th>\n",
       "      <td>1902.136527</td>\n",
       "      <td>5.149859</td>\n",
       "      <td>1.446927</td>\n",
       "      <td>0.012233</td>\n",
       "      <td>0.029445</td>\n",
       "      <td>0.060532</td>\n",
       "      <td>0.129785</td>\n",
       "      <td>0.251453</td>\n",
       "      <td>0.330589</td>\n",
       "      <td>0.616570</td>\n",
       "      <td>...</td>\n",
       "      <td>0.124728</td>\n",
       "      <td>0.129785</td>\n",
       "      <td>0.118684</td>\n",
       "      <td>0.099887</td>\n",
       "      <td>0.100827</td>\n",
       "      <td>0.093863</td>\n",
       "      <td>0.089309</td>\n",
       "      <td>0.087878</td>\n",
       "      <td>0.087640</td>\n",
       "      <td>0.095848</td>\n",
       "    </tr>\n",
       "    <tr>\n",
       "      <th>75%</th>\n",
       "      <td>3929.014984</td>\n",
       "      <td>7.237221</td>\n",
       "      <td>2.911346</td>\n",
       "      <td>0.033490</td>\n",
       "      <td>0.073249</td>\n",
       "      <td>0.115813</td>\n",
       "      <td>0.205119</td>\n",
       "      <td>0.375467</td>\n",
       "      <td>0.531185</td>\n",
       "      <td>0.897196</td>\n",
       "      <td>...</td>\n",
       "      <td>0.245040</td>\n",
       "      <td>0.205119</td>\n",
       "      <td>0.172803</td>\n",
       "      <td>0.152593</td>\n",
       "      <td>0.136639</td>\n",
       "      <td>0.127505</td>\n",
       "      <td>0.141262</td>\n",
       "      <td>0.123639</td>\n",
       "      <td>0.115939</td>\n",
       "      <td>0.106971</td>\n",
       "    </tr>\n",
       "    <tr>\n",
       "      <th>max</th>\n",
       "      <td>16257.952116</td>\n",
       "      <td>23.069445</td>\n",
       "      <td>8.023426</td>\n",
       "      <td>0.146480</td>\n",
       "      <td>0.306124</td>\n",
       "      <td>0.469370</td>\n",
       "      <td>0.665528</td>\n",
       "      <td>1.388766</td>\n",
       "      <td>2.002092</td>\n",
       "      <td>3.358870</td>\n",
       "      <td>...</td>\n",
       "      <td>1.159047</td>\n",
       "      <td>0.665528</td>\n",
       "      <td>0.545563</td>\n",
       "      <td>0.442585</td>\n",
       "      <td>0.342378</td>\n",
       "      <td>0.207729</td>\n",
       "      <td>0.181283</td>\n",
       "      <td>0.158232</td>\n",
       "      <td>0.153991</td>\n",
       "      <td>0.130163</td>\n",
       "    </tr>\n",
       "  </tbody>\n",
       "</table>\n",
       "<p>8 rows × 27 columns</p>\n",
       "</div>"
      ],
      "text/plain": [
       "              price         ffr   sgd_ir_1m  1m_cumulative  3m_cumulative  \\\n",
       "count    669.000000  669.000000  452.000000     668.000000     666.000000   \n",
       "mean    3003.434310    5.190652    1.757206       0.008575       0.026191   \n",
       "std     3435.685727    4.204810    1.634039       0.042819       0.076683   \n",
       "min       81.167249    0.048345    0.016769      -0.189471      -0.331688   \n",
       "25%      293.447032    1.615204    0.327764      -0.016208      -0.011036   \n",
       "50%     1902.136527    5.149859    1.446927       0.012233       0.029445   \n",
       "75%     3929.014984    7.237221    2.911346       0.033490       0.073249   \n",
       "max    16257.952116   23.069445    8.023426       0.146480       0.306124   \n",
       "\n",
       "       6m_cumulative  1y_cumulative  2y_cumulative  3y_cumulative  \\\n",
       "count     663.000000     657.000000     645.000000     633.000000   \n",
       "mean        0.053569       0.111358       0.231593       0.356229   \n",
       "std         0.113940       0.170061       0.271334       0.360934   \n",
       "min        -0.434646      -0.469420      -0.470921      -0.453187   \n",
       "25%        -0.009577       0.014624       0.085370       0.178263   \n",
       "50%         0.060532       0.129785       0.251453       0.330589   \n",
       "75%         0.115813       0.205119       0.375467       0.531185   \n",
       "max         0.469370       0.665528       1.388766       2.002092   \n",
       "\n",
       "       5y_cumulative  ...  6m_annualized  1y_annualized  2y_annualized  \\\n",
       "count     609.000000  ...     663.000000     657.000000     645.000000   \n",
       "mean        0.667967  ...       0.122969       0.111358       0.102964   \n",
       "std         0.598102  ...       0.237800       0.170061       0.122827   \n",
       "min        -0.246839  ...      -0.680375      -0.469420      -0.272622   \n",
       "25%         0.249080  ...      -0.019063       0.014624       0.041811   \n",
       "50%         0.616570  ...       0.124728       0.129785       0.118684   \n",
       "75%         0.897196  ...       0.245040       0.205119       0.172803   \n",
       "max         3.358870  ...       1.159047       0.665528       0.545563   \n",
       "\n",
       "       3y_annualized  5y_annualized  10y_annualized  15y_annualized  \\\n",
       "count     633.000000     609.000000      549.000000      489.000000   \n",
       "mean        0.098406       0.097709        0.098097        0.098233   \n",
       "std         0.096989       0.073412        0.046679        0.040121   \n",
       "min        -0.182264      -0.055118       -0.023284        0.030301   \n",
       "25%         0.056203       0.045486        0.069753        0.064648   \n",
       "50%         0.099887       0.100827        0.093863        0.089309   \n",
       "75%         0.152593       0.136639        0.127505        0.141262   \n",
       "max         0.442585       0.342378        0.207729        0.181283   \n",
       "\n",
       "       20y_annualized  25y_annualized  30y_annualized  \n",
       "count      429.000000      369.000000      309.000000  \n",
       "mean         0.095546        0.094226        0.094452  \n",
       "std          0.031586        0.025183        0.016342  \n",
       "min          0.034885        0.058008        0.067044  \n",
       "25%          0.069040        0.070635        0.079775  \n",
       "50%          0.087878        0.087640        0.095848  \n",
       "75%          0.123639        0.115939        0.106971  \n",
       "max          0.158232        0.153991        0.130163  \n",
       "\n",
       "[8 rows x 27 columns]"
      ]
     },
     "execution_count": 27,
     "metadata": {},
     "output_type": "execute_result"
    }
   ],
   "source": [
    "msci_world.describe()"
   ]
  },
  {
   "cell_type": "code",
   "execution_count": 28,
   "metadata": {},
   "outputs": [
    {
     "data": {
      "text/html": [
       "<div>\n",
       "<style scoped>\n",
       "    .dataframe tbody tr th:only-of-type {\n",
       "        vertical-align: middle;\n",
       "    }\n",
       "\n",
       "    .dataframe tbody tr th {\n",
       "        vertical-align: top;\n",
       "    }\n",
       "\n",
       "    .dataframe thead th {\n",
       "        text-align: right;\n",
       "    }\n",
       "</style>\n",
       "<table border=\"1\" class=\"dataframe\">\n",
       "  <thead>\n",
       "    <tr style=\"text-align: right;\">\n",
       "      <th></th>\n",
       "      <th>1m_annualized</th>\n",
       "      <th>3m_annualized</th>\n",
       "      <th>6m_annualized</th>\n",
       "      <th>1y_annualized</th>\n",
       "      <th>2y_annualized</th>\n",
       "      <th>3y_annualized</th>\n",
       "      <th>5y_annualized</th>\n",
       "      <th>10y_annualized</th>\n",
       "      <th>15y_annualized</th>\n",
       "      <th>20y_annualized</th>\n",
       "      <th>25y_annualized</th>\n",
       "      <th>30y_annualized</th>\n",
       "    </tr>\n",
       "  </thead>\n",
       "  <tbody>\n",
       "    <tr>\n",
       "      <th>count</th>\n",
       "      <td>668.000000</td>\n",
       "      <td>666.000000</td>\n",
       "      <td>663.000000</td>\n",
       "      <td>657.000000</td>\n",
       "      <td>645.000000</td>\n",
       "      <td>633.000000</td>\n",
       "      <td>609.000000</td>\n",
       "      <td>549.000000</td>\n",
       "      <td>489.000000</td>\n",
       "      <td>429.000000</td>\n",
       "      <td>369.000000</td>\n",
       "      <td>309.000000</td>\n",
       "    </tr>\n",
       "    <tr>\n",
       "      <th>mean</th>\n",
       "      <td>0.237051</td>\n",
       "      <td>0.145338</td>\n",
       "      <td>0.122969</td>\n",
       "      <td>0.111358</td>\n",
       "      <td>0.102964</td>\n",
       "      <td>0.098406</td>\n",
       "      <td>0.097709</td>\n",
       "      <td>0.098097</td>\n",
       "      <td>0.098233</td>\n",
       "      <td>0.095546</td>\n",
       "      <td>0.094226</td>\n",
       "      <td>0.094452</td>\n",
       "    </tr>\n",
       "    <tr>\n",
       "      <th>std</th>\n",
       "      <td>0.612557</td>\n",
       "      <td>0.328959</td>\n",
       "      <td>0.237800</td>\n",
       "      <td>0.170061</td>\n",
       "      <td>0.122827</td>\n",
       "      <td>0.096989</td>\n",
       "      <td>0.073412</td>\n",
       "      <td>0.046679</td>\n",
       "      <td>0.040121</td>\n",
       "      <td>0.031586</td>\n",
       "      <td>0.025183</td>\n",
       "      <td>0.016342</td>\n",
       "    </tr>\n",
       "    <tr>\n",
       "      <th>min</th>\n",
       "      <td>-0.919606</td>\n",
       "      <td>-0.800512</td>\n",
       "      <td>-0.680375</td>\n",
       "      <td>-0.469420</td>\n",
       "      <td>-0.272622</td>\n",
       "      <td>-0.182264</td>\n",
       "      <td>-0.055118</td>\n",
       "      <td>-0.023284</td>\n",
       "      <td>0.030301</td>\n",
       "      <td>0.034885</td>\n",
       "      <td>0.058008</td>\n",
       "      <td>0.067044</td>\n",
       "    </tr>\n",
       "    <tr>\n",
       "      <th>25%</th>\n",
       "      <td>-0.178059</td>\n",
       "      <td>-0.043417</td>\n",
       "      <td>-0.019063</td>\n",
       "      <td>0.014624</td>\n",
       "      <td>0.041811</td>\n",
       "      <td>0.056203</td>\n",
       "      <td>0.045486</td>\n",
       "      <td>0.069753</td>\n",
       "      <td>0.064648</td>\n",
       "      <td>0.069040</td>\n",
       "      <td>0.070635</td>\n",
       "      <td>0.079775</td>\n",
       "    </tr>\n",
       "    <tr>\n",
       "      <th>50%</th>\n",
       "      <td>0.157084</td>\n",
       "      <td>0.123085</td>\n",
       "      <td>0.124728</td>\n",
       "      <td>0.129785</td>\n",
       "      <td>0.118684</td>\n",
       "      <td>0.099887</td>\n",
       "      <td>0.100827</td>\n",
       "      <td>0.093863</td>\n",
       "      <td>0.089309</td>\n",
       "      <td>0.087878</td>\n",
       "      <td>0.087640</td>\n",
       "      <td>0.095848</td>\n",
       "    </tr>\n",
       "    <tr>\n",
       "      <th>75%</th>\n",
       "      <td>0.484833</td>\n",
       "      <td>0.326790</td>\n",
       "      <td>0.245040</td>\n",
       "      <td>0.205119</td>\n",
       "      <td>0.172803</td>\n",
       "      <td>0.152593</td>\n",
       "      <td>0.136639</td>\n",
       "      <td>0.127505</td>\n",
       "      <td>0.141262</td>\n",
       "      <td>0.123639</td>\n",
       "      <td>0.115939</td>\n",
       "      <td>0.106971</td>\n",
       "    </tr>\n",
       "    <tr>\n",
       "      <th>max</th>\n",
       "      <td>4.157034</td>\n",
       "      <td>1.910296</td>\n",
       "      <td>1.159047</td>\n",
       "      <td>0.665528</td>\n",
       "      <td>0.545563</td>\n",
       "      <td>0.442585</td>\n",
       "      <td>0.342378</td>\n",
       "      <td>0.207729</td>\n",
       "      <td>0.181283</td>\n",
       "      <td>0.158232</td>\n",
       "      <td>0.153991</td>\n",
       "      <td>0.130163</td>\n",
       "    </tr>\n",
       "  </tbody>\n",
       "</table>\n",
       "</div>"
      ],
      "text/plain": [
       "       1m_annualized  3m_annualized  6m_annualized  1y_annualized  \\\n",
       "count     668.000000     666.000000     663.000000     657.000000   \n",
       "mean        0.237051       0.145338       0.122969       0.111358   \n",
       "std         0.612557       0.328959       0.237800       0.170061   \n",
       "min        -0.919606      -0.800512      -0.680375      -0.469420   \n",
       "25%        -0.178059      -0.043417      -0.019063       0.014624   \n",
       "50%         0.157084       0.123085       0.124728       0.129785   \n",
       "75%         0.484833       0.326790       0.245040       0.205119   \n",
       "max         4.157034       1.910296       1.159047       0.665528   \n",
       "\n",
       "       2y_annualized  3y_annualized  5y_annualized  10y_annualized  \\\n",
       "count     645.000000     633.000000     609.000000      549.000000   \n",
       "mean        0.102964       0.098406       0.097709        0.098097   \n",
       "std         0.122827       0.096989       0.073412        0.046679   \n",
       "min        -0.272622      -0.182264      -0.055118       -0.023284   \n",
       "25%         0.041811       0.056203       0.045486        0.069753   \n",
       "50%         0.118684       0.099887       0.100827        0.093863   \n",
       "75%         0.172803       0.152593       0.136639        0.127505   \n",
       "max         0.545563       0.442585       0.342378        0.207729   \n",
       "\n",
       "       15y_annualized  20y_annualized  25y_annualized  30y_annualized  \n",
       "count      489.000000      429.000000      369.000000      309.000000  \n",
       "mean         0.098233        0.095546        0.094226        0.094452  \n",
       "std          0.040121        0.031586        0.025183        0.016342  \n",
       "min          0.030301        0.034885        0.058008        0.067044  \n",
       "25%          0.064648        0.069040        0.070635        0.079775  \n",
       "50%          0.089309        0.087878        0.087640        0.095848  \n",
       "75%          0.141262        0.123639        0.115939        0.106971  \n",
       "max          0.181283        0.158232        0.153991        0.130163  "
      ]
     },
     "execution_count": 28,
     "metadata": {},
     "output_type": "execute_result"
    }
   ],
   "source": [
    "msci_world.loc[:, \"1m_annualized\":\"30y_annualized\"].describe()"
   ]
  },
  {
   "cell_type": "code",
   "execution_count": 29,
   "metadata": {},
   "outputs": [
    {
     "data": {
      "application/vnd.plotly.v1+json": {
       "config": {
        "plotlyServerURL": "https://plot.ly"
       },
       "data": [
        {
         "name": "1m_annualized",
         "type": "box",
         "x": {
          "bdata": "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",
          "dtype": "f8"
         }
        },
        {
         "name": "3m_annualized",
         "type": "box",
         "x": {
          "bdata": "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",
          "dtype": "f8"
         }
        },
        {
         "name": "6m_annualized",
         "type": "box",
         "x": {
          "bdata": "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",
          "dtype": "f8"
         }
        },
        {
         "name": "1y_annualized",
         "type": "box",
         "x": {
          "bdata": "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",
          "dtype": "f8"
         }
        },
        {
         "name": "2y_annualized",
         "type": "box",
         "x": {
          "bdata": "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",
          "dtype": "f8"
         }
        },
        {
         "name": "3y_annualized",
         "type": "box",
         "x": {
          "bdata": "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",
          "dtype": "f8"
         }
        },
        {
         "name": "5y_annualized",
         "type": "box",
         "x": {
          "bdata": "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",
          "dtype": "f8"
         }
        },
        {
         "name": "10y_annualized",
         "type": "box",
         "x": {
          "bdata": "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",
          "dtype": "f8"
         }
        },
        {
         "name": "15y_annualized",
         "type": "box",
         "x": {
          "bdata": "AAAAAAAA+H8AAAAAAAD4fwAAAAAAAPh/AAAAAAAA+H8AAAAAAAD4fwAAAAAAAPh/AAAAAAAA+H8AAAAAAAD4fwAAAAAAAPh/AAAAAAAA+H8AAAAAAAD4fwAAAAAAAPh/AAAAAAAA+H8AAAAAAAD4fwAAAAAAAPh/AAAAAAAA+H8AAAAAAAD4fwAAAAAAAPh/AAAAAAAA+H8AAAAAAAD4fwAAAAAAAPh/AAAAAAAA+H8AAAAAAAD4fwAAAAAAAPh/AAAAAAAA+H8AAAAAAAD4fwAAAAAAAPh/AAAAAAAA+H8AAAAAAAD4fwAAAAAAAPh/AAAAAAAA+H8AAAAAAAD4fwAAAAAAAPh/AAAAAAAA+H8AAAAAAAD4fwAAAAAAAPh/AAAAAAAA+H8AAAAAAAD4fwAAAAAAAPh/AAAAAAAA+H8AAAAAAAD4fwAAAAAAAPh/AAAAAAAA+H8AAAAAAAD4fwAAAAAAAPh/AAAAAAAA+H8AAAAAAAD4fwAAAAAAAPh/AAAAAAAA+H8AAAAAAAD4fwAAAAAAAPh/AAAAAAAA+H8AAAAAAAD4fwAAAAAAAPh/AAAAAAAA+H8AAAAAAAD4fwAAAAAAAPh/AAAAAAAA+H8AAAAAAAD4fwAAAAAAAPh/AAAAAAAA+H8AAAAAAAD4fwAAAAAAAPh/AAAAAAAA+H8AAAAAAAD4fwAAAAAAAPh/AAAAAAAA+H8AAAAAAAD4fwAAAAAAAPh/AAAAAAAA+H8AAAAAAAD4fwAAAAAAAPh/AAAAAAAA+H8AAAAAAAD4fwAAAAAAAPh/AAAAAAAA+H8AAAAAAAD4fwAAAAAAAPh/AAAAAAAA+H8AAAAAAAD4fwAAAAAAAPh/AAAAAAAA+H8AAAAAAAD4fwAAAAAAAPh/AAAAAAAA+H8AAAAAAAD4fwAAAAAAAPh/AAAAAAAA+H8AAAAAAAD4fwAAAAAAAPh/AAAAAAAA+H8AAAAAAAD4fwAAAAAAAPh/AAAAAAAA+H8AAAAAAAD4fwAAAAAAAPh/AAAAAAAA+H8AAAAAAAD4fwAAAAAAAPh/AAAAAAAA+H8AAAAAAAD4fwAAAAAAAPh/AAAAAAAA+H8AAAAAAAD4fwAAAAAAAPh/AAAAAAAA+H8AAAAAAAD4fwAAAAAAAPh/AAAAAAAA+H8AAAAAAAD4fwAAAAAAAPh/AAAAAAAA+H8AAAAAAAD4fwAAAAAAAPh/AAAAAAAA+H8AAAAAAAD4fwAAAAAAAPh/AAAAAAAA+H8AAAAAAAD4fwAAAAAAAPh/AAAAAAAA+H8AAAAAAAD4fwAAAAAAAPh/AAAAAAAA+H8AAAAAAAD4fwAAAAAAAPh/AAAAAAAA+H8AAAAAAAD4fwAAAAAAAPh/AAAAAAAA+H8AAAAAAAD4fwAAAAAAAPh/AAAAAAAA+H8AAAAAAAD4fwAAAAAAAPh/AAAAAAAA+H8AAAAAAAD4fwAAAAAAAPh/AAAAAAAA+H8AAAAAAAD4fwAAAAAAAPh/AAAAAAAA+H8AAAAAAAD4fwAAAAAAAPh/AAAAAAAA+H8AAAAAAAD4fwAAAAAAAPh/AAAAAAAA+H8AAAAAAAD4fwAAAAAAAPh/AAAAAAAA+H8AAAAAAAD4fwAAAAAAAPh/AAAAAAAA+H8AAAAAAAD4fwAAAAAAAPh/AAAAAAAA+H8AAAAAAAD4fwAAAAAAAPh/AAAAAAAA+H8AAAAAAAD4fwAAAAAAAPh/AAAAAAAA+H8AAAAAAAD4fwAAAAAAAPh/AAAAAAAA+H8AAAAAAAD4fwAAAAAAAPh/AAAAAAAA+H8AAAAAAAD4fwAAAAAAAPh/AAAAAAAA+H8AAAAAAAD4fwAAAAAAAPh/AAAAAAAA+H8AAAAAAAD4fwAAAAAAAPh/AAAAAAAA+H8AAAAAAAD4fwAAAAAAAPh/MHLXwBqktD8A+IB446+2PxBrgFzAJbY/AC6rNam3tj+gAsw6D324P2AEZ3kUpbo/cOlyLf5wuz8wEztKEq+6P9B2/VA+OLo/oGlXhF3BuT9QIepsuAO7PwD7h4Cpnbs/4C+tBeOOuz+AVjVYyvq6P+BHJq7hZ7w/MFO++5FavT/QAvldO0C9P7DHcBIRpb0/ADxCYssxvj/AM/ARx6W+P+C9KoWi1L8/AJEM9aU6vz+QG8qayqC/P5CyU/5xIMA/gE/pY3r4vj9o9CHEnDPAPzjzgpa2JcA/aMZiVuOWwD94ZoAINgLBPxAS9cja0sA/oHw32I8KwT/4XiRLmBTBP0A4Vc+LXME/0OMYjwlWwT8AULhMhOy+PwAJhNt5eL0/8GERlOzsvT+QgLf8elW+P+B+/GImRr8/UC2mwYjPvz8gN4fr3YTAP9jmoIN/WcA/4K6Pzq9FwD+4HgaqmDjAP0CfqFIaFcA/GLJ0yC00wD/gr/3LUbnAP0Di8ZolZsI/sKVMzSeQwj8wokdL3NTCPygJTjQxncI/WMrySvrLwj9gWydrFC7DP1h3SJifVcM/0Ap+cRWIwz8o4xFhNjDFP2iXg3b98sU/6A26DEQ0xz8AU/8hg/DFP2BmA8R5e8Y/MLR4FhT2xj+oClsQeB3FPygYq6hh1sM/OAwJoKQlwz9wKXHuCZrCP2jQPhAiWcM/eHKF2Uwmwz9QX3S4yMrDP+Bg4Co2+cI/gFdkE/1Lwj8wWIBFAIPCP4CDdTjeFMI/eAJunAJFwj9Y3Xah4MfBP4iYNG8TtsI/OAQJro5Mwj9g4tC08nDCP3gE7pW10cI/OKqmh3vlwT/YFqSQom7CP8DCyfgHa8I/qBs3zHOVwj945IY/mhXDP8iYWKFCrsI/0OXUSkenwj/w4up3jczCP9AJHEeDqsI/OBWOggxAwj/AyfsG7kXCPwiFUk4qyMI/aL/zTSoVwj/4ulU7pjvCP7D5xmjnbMI/WDYU63k1wj8Yl1nMUhrCP6iB1TbmJcI/GBRJzHIHwj9YJ98atljCP9j7uVrXpMI/uPB7poLBwj8QkW6MWcPCP3hGYiWT28I/ePmiYyuswj94SV/iqC/CP/i8Pdt/ZcI/2O4BhtcYwj8YiC/AQozCP8haPxEhU8I/II14asF4wj8A1aig2NfCP9gAMIoi5sI/SJYsr+4Pwj8QdLbYDV7CP6CwuPmgjsI/uLIcAyI/wj+4FszpAVrCP5gcuG5lQMI/SBL75UDFwT/I+mNE1srCP7DcTqHlDsI/CHRX287jwT/4DCvVpSvBP8itNTDsTME/4LLyA5fcwj8oHCm+FpLCP9BECH3SLcI/AIydeAO3wT/wT+xq5+PBPwhSxixpesE/mFwfcO92wT8g89sGHgfBP8AWPEwK9cA/6C/38eFxwT9YGDpogObBP5CnboMW7cE/IEZUMtu9wT+IAULBVfXBPxgHyHWHJ8I/cJe4nhQ3wj/wdik0vwbCPxD5IZuKU8I/ABMEqlx2wz9Al2zfnDrDP8B/JfxIDsM/+Fvjsl0awz+Ai65bYlzDP3AgEsSdFcQ/+CL2LP0nxD9wewMh/f7DPwjqk9Gf1sQ/kOtT9jLHxT+o9mbwhlrGP3iJDA7L9cQ/aH+bMLBvxT94Op88pjzEP6Dep3Gw5cM/+ENQnq6Uwz+YQFs67qPDPzB1CqnnE8Q/aD6d4UYkxD94RWExGo7DP8BP5DdnhsM/AL66vulywz+Q1Ah3dpvDP9iJZGeLJsI/6NYrno8fwj9g2FT/+BTDP3DR1+NSZcM/+HnGgby8wz+IraI7093DPygtfUUKw8M/8A37yWC1wz/I7ZbFkx/EP5gzPyfmhcQ/gBzbjRjjxD+QNVeO1jXFP3jcNRr/PcQ/IGjJRF8uxD+wjd1gOZPEP3AWHJWi4sQ/EHyRecRzxT94xOnzBVXEP/g15yuUVsQ/CDWJfyqpxD9A3EtwWELEP4hj14LYgsM/MApLeXOpwz9AV1O68i3DPygvfoWiacM/mApSE4XNwj9w0+h5BSDCP8Bbj2Ud/cA/aEUdKoSzwD/IwM5iYr7APwDQajT9Ir4/EEmoqesTuz+QVXbzrem7P8DczJeRubs/gGHDlLNhuj+Q5ClZzvq5P3Ad+p7gfbc/4Byi+KuHtj8QhFXukDS3P+As//sPgbc/YGH1be1Atz/AtUbAOqC0P0DTKA9r3rM/EAjM1nCPsz8gizd3KuOxPyCyCIES5rE/ENCmMvvEsD8gYLbp86GtP2DdM5LFoas/gOPZ8VEWqD8g4A2ZoK6wPxBbeHLtFrI/sJZgQehpsD+g49+9gtauPyCVT7EwLKw/YNSl17r+qj+gn/I+bJ2tP8Bfq6GOLrA/QE33NYaFsD/ATTmkvYywP7BcZzFv+LE/UM1/1mJTsT+ABuMFJzSxP8DwYsWY27A/4DZ7PwrOsT/gRJFQGnOxP0A3AcUr37E/ADNUVEPfsT9wqvlsvBWxP8BCm+OytbE/sPmp7wNLsj8Aewswt3yvP0BBkpCWRbA/kJirtjwcsD9gaMIlUyuxP8ApA+y6ZLE/AH5rac6AsT+A9U3Fg/axP/D8pzhsV7M/IJQGa5chtD9goKB5MgC0P0BvYAmnfrI/gLrjc+DJsj9waTNCRUGzP2DwfedqNbU/0BNOtvfBtz+wFFF9gaW1P/DwM/ZPkbY/kKK02vKXtj9wKkMrs722PwCVyP8SFLU/IIubhjoKtj/Q8W+Q13S2P9AjIl45aLU/gDy7EoCWtj/AsI2Qxtm1P5CWrbEJZLY/8LQ42mIitj+QZoMh+4G2P2D0uw4Ny7c/UFXP1fXctj8AY20lrm63P0D1Idwiqrc/IJhNnBHpuD/Acdmhgne5P7DqNAF4Q7k/IM81CSTDuT/gWfGxIEy5P8AqAlqb1rg/gPs+CgnjuT/w1AKG4Pm6P+BdNtiv3Lk/cP8yH5d4uT/gu02BnOy3P1DaqguYYrc/4CEOHQ8qtj/Qe3V8Mki2P7Dn+DgCJ7Y/4HAnj3TGtD+Ajh8kcfKzP9BIOeGK3rI/YC7OaijnsD8gxUvABj6pPyBjAqgl8qg/ANuapG9gqD8g6xcSj9miPwB4lyw6B58/gDdqgcGloz8gqvQZXVymP4DvuM6eY6k/ICfWM9dVqT/AGCKJapWrP8Db5i61+qs/4HUz0Fxbrj8g3QoUc7OsP0AukaXcwq8/MEjrqyYIsD+gSR4bOhavP8AZ2n/dE68/wCRPQCaPrz/gLX1DwFWuPyCTNLOVa6o/IIHeRxowqT8gOOhVrjyqP2BZSX5OsKk/oI1ifcfdqz+Af+h+LMOtP4BuPBIUwas/AEkV7T9HrT9g8v9sM3GtP+AWpuBsea4/gFoKrVeHrT8AF0tBFDSuP6DLkC0db60/APgrqjGvrD+g5ldQylOtP8B1fk6MS6o/YDH1TP+zpT9gFZ8N+/ioPwCauUFyJ6Y/wD9uUnC3pj9AtIMjugqoP8DwGUFPWak/wMLbcpKIqj8ATQG+3PuoP4BwqNA5p6M/4LZ917+yoz8g47IqrI+iP2CTR2lO6qU/QID3cm4BpT9AiEPgmrGmP+DNMU4iiKY/oKOQIhHGpj+g7Ns7MJKnP+DvzL1/TqU/QGM7cjCrpD9At2SF7m+lP4CfEFRK6qU/AGIhLNIzpD+gi37ejBamPwCBTTmPcao/wMAS6+6Sqz/gS93NTdmpP6CUW6BPa6g/4Ha8uTp4pz8gxfyViVulP8Af6TOvEag/IFXQrcOspj/gBpiUs6ulP2CnPXNptac/4M2Rbua4pj9gdCD2pkKmP2CJKUmWG6c/4MhT6E97pj/AhVxokOmkP6AFLIbQo6Q/4B/2PhVRoT9gRQw2N8KiP6CZGN+RsKQ/AE5MwY7GoT/gTNi9YyKkP0C6+JKXLqU/gFI8SfEtoz8gNuLqNdSkP0CvG1eMR6E/YHLUDNTjoT8g4zoFIjKlPyBcnnTsQac/QLzpdoQPpj+gB9nn3TGjPyB4sbtlE6Y/QCi3hJfdqj/AkRkFweGoP8CdMHm2jqk/4GqFjblNqj8guVQ5s0asP2CXFuTMFq4/IPYygx/RsD9A+FG/iB6wP6Cbf7Hjrq4/oLM+dYBRrz+gw19f7aawPzAjIJP+T7E/QOvUp1a5sD8wpwZjQ5+xP6Ay1S3/+bE/UJi2kyAysz+wGdCJWkG1P4C/RXxAQLU/YCE9QUPUtz+gr7zJfdq2P/Di9hPHR7Y/ICAYUa90tz8A9Ux5pP64P6CwQrGjiLg/IKRg6UQvuD9Q5NJmrtC2PyArBG/057U/UOBDeaWUtT+wRp0ai8e1P5BNeJVYnbU/cPHnV3KbtT/g2wLGMiSzP8BoumYzE7M/ABuBh+mFsD/QUjUbIpmxP9DaioBG1rE/UIJ0XRUzsj+Qew5CcTezP8CR8kAN97E/4EmBs6TCsj8AZGv3tHWzP4BzMoM+ALM/cEyz+HkLsz9Qnl95BxCzP/B787DUoLI/EH7EL8p7sj9Ad248H8qyP7C0gon/m7A/QIk8vKLLrD8Q8udh3auwP2Ct9OlMNbE/YOW8v9mGsT9wVrj6+8CxPwBgwnBhzLI/ANZG+1OwsT/gSS3Yq5GxP1Afcrw+K7M/8GHHQJuHsz9QjaRoyouyP7CEIuo4CbM/IGuUGw49sz/wH/uvFYazPxBS+21QbLQ/cNngzlGztD9AoMvM2+m0P/B0gaR45LQ/gIRwa+3ksz8wE5zu0T60P8AKx7w/ZLM/wLdoGH3Ksz9g6mBNGJSyP/AEvW5fNLI/sJAWmaJesj9gruI+tgCwPwCLsIhRB68/gFqZbqwJrD9g2AgLhZuvP6BJ5mvEFq4/QGMEjTrpqD8AuPZcjVCqPwAnY5giPa4/YLdDtngkrT+AxR2SbkCxPyA34nbf6bA/gAAUiTalsT9wIKfAtgaxP6AHO8h7kLA/UKDNTlcnsz9gJbYIJze0P/Dq2kDOB7Q/YG393V+NtT/AGLdFueq4P2DW3gt43Ls/oPjECk4rvD+AA+uxUSO+PwAv1RoTgMA/0M4mw+sawD/Q0TyUAXO9PwCtfJ9XoLw/0ELYXAMYvT+QasBk9eG7P9CyhZBLnLs/QJaN4Rw3uz+wFHyADy27P0CDBYP6Q7s/sHGGF51uuj9As+/bOuK7PyADNDU+e7s/cJGoBSF+uT9wlLUnvqe5P+CDX1M6o7w/cDMKM74avj/ADIo9Jt28P+CK9kSmE74/",
          "dtype": "f8"
         }
        },
        {
         "name": "20y_annualized",
         "type": "box",
         "x": {
          "bdata": "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",
          "dtype": "f8"
         }
        },
        {
         "name": "25y_annualized",
         "type": "box",
         "x": {
          "bdata": "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",
          "dtype": "f8"
         }
        },
        {
         "name": "30y_annualized",
         "type": "box",
         "x": {
          "bdata": "AAAAAAAA+H8AAAAAAAD4fwAAAAAAAPh/AAAAAAAA+H8AAAAAAAD4fwAAAAAAAPh/AAAAAAAA+H8AAAAAAAD4fwAAAAAAAPh/AAAAAAAA+H8AAAAAAAD4fwAAAAAAAPh/AAAAAAAA+H8AAAAAAAD4fwAAAAAAAPh/AAAAAAAA+H8AAAAAAAD4fwAAAAAAAPh/AAAAAAAA+H8AAAAAAAD4fwAAAAAAAPh/AAAAAAAA+H8AAAAAAAD4fwAAAAAAAPh/AAAAAAAA+H8AAAAAAAD4fwAAAAAAAPh/AAAAAAAA+H8AAAAAAAD4fwAAAAAAAPh/AAAAAAAA+H8AAAAAAAD4fwAAAAAAAPh/AAAAAAAA+H8AAAAAAAD4fwAAAAAAAPh/AAAAAAAA+H8AAAAAAAD4fwAAAAAAAPh/AAAAAAAA+H8AAAAAAAD4fwAAAAAAAPh/AAAAAAAA+H8AAAAAAAD4fwAAAAAAAPh/AAAAAAAA+H8AAAAAAAD4fwAAAAAAAPh/AAAAAAAA+H8AAAAAAAD4fwAAAAAAAPh/AAAAAAAA+H8AAAAAAAD4fwAAAAAAAPh/AAAAAAAA+H8AAAAAAAD4fwAAAAAAAPh/AAAAAAAA+H8AAAAAAAD4fwAAAAAAAPh/AAAAAAAA+H8AAAAAAAD4fwAAAAAAAPh/AAAAAAAA+H8AAAAAAAD4fwAAAAAAAPh/AAAAAAAA+H8AAAAAAAD4fwAAAAAAAPh/AAAAAAAA+H8AAAAAAAD4fwAAAAAAAPh/AAAAAAAA+H8AAAAAAAD4fwAAAAAAAPh/AAAAAAAA+H8AAAAAAAD4fwAAAAAAAPh/AAAAAAAA+H8AAAAAAAD4fwAAAAAAAPh/AAAAAAAA+H8AAAAAAAD4fwAAAAAAAPh/AAAAAAAA+H8AAAAAAAD4fwAAAAAAAPh/AAAAAAAA+H8AAAAAAAD4fwAAAAAAAPh/AAAAAAAA+H8AAAAAAAD4fwAAAAAAAPh/AAAAAAAA+H8AAAAAAAD4fwAAAAAAAPh/AAAAAAAA+H8AAAAAAAD4fwAAAAAAAPh/AAAAAAAA+H8AAAAAAAD4fwAAAAAAAPh/AAAAAAAA+H8AAAAAAAD4fwAAAAAAAPh/AAAAAAAA+H8AAAAAAAD4fwAAAAAAAPh/AAAAAAAA+H8AAAAAAAD4fwAAAAAAAPh/AAAAAAAA+H8AAAAAAAD4fwAAAAAAAPh/AAAAAAAA+H8AAAAAAAD4fwAAAAAAAPh/AAAAAAAA+H8AAAAAAAD4fwAAAAAAAPh/AAAAAAAA+H8AAAAAAAD4fwAAAAAAAPh/AAAAAAAA+H8AAAAAAAD4fwAAAAAAAPh/AAAAAAAA+H8AAAAAAAD4fwAAAAAAAPh/AAAAAAAA+H8AAAAAAAD4fwAAAAAAAPh/AAAAAAAA+H8AAAAAAAD4fwAAAAAAAPh/AAAAAAAA+H8AAAAAAAD4fwAAAAAAAPh/AAAAAAAA+H8AAAAAAAD4fwAAAAAAAPh/AAAAAAAA+H8AAAAAAAD4fwAAAAAAAPh/AAAAAAAA+H8AAAAAAAD4fwAAAAAAAPh/AAAAAAAA+H8AAAAAAAD4fwAAAAAAAPh/AAAAAAAA+H8AAAAAAAD4fwAAAAAAAPh/AAAAAAAA+H8AAAAAAAD4fwAAAAAAAPh/AAAAAAAA+H8AAAAAAAD4fwAAAAAAAPh/AAAAAAAA+H8AAAAAAAD4fwAAAAAAAPh/AAAAAAAA+H8AAAAAAAD4fwAAAAAAAPh/AAAAAAAA+H8AAAAAAAD4fwAAAAAAAPh/AAAAAAAA+H8AAAAAAAD4fwAAAAAAAPh/AAAAAAAA+H8AAAAAAAD4fwAAAAAAAPh/AAAAAAAA+H8AAAAAAAD4fwAAAAAAAPh/AAAAAAAA+H8AAAAAAAD4fwAAAAAAAPh/AAAAAAAA+H8AAAAAAAD4fwAAAAAAAPh/AAAAAAAA+H8AAAAAAAD4fwAAAAAAAPh/AAAAAAAA+H8AAAAAAAD4fwAAAAAAAPh/AAAAAAAA+H8AAAAAAAD4fwAAAAAAAPh/AAAAAAAA+H8AAAAAAAD4fwAAAAAAAPh/AAAAAAAA+H8AAAAAAAD4fwAAAAAAAPh/AAAAAAAA+H8AAAAAAAD4fwAAAAAAAPh/AAAAAAAA+H8AAAAAAAD4fwAAAAAAAPh/AAAAAAAA+H8AAAAAAAD4fwAAAAAAAPh/AAAAAAAA+H8AAAAAAAD4fwAAAAAAAPh/AAAAAAAA+H8AAAAAAAD4fwAAAAAAAPh/AAAAAAAA+H8AAAAAAAD4fwAAAAAAAPh/AAAAAAAA+H8AAAAAAAD4fwAAAAAAAPh/AAAAAAAA+H8AAAAAAAD4fwAAAAAAAPh/AAAAAAAA+H8AAAAAAAD4fwAAAAAAAPh/AAAAAAAA+H8AAAAAAAD4fwAAAAAAAPh/AAAAAAAA+H8AAAAAAAD4fwAAAAAAAPh/AAAAAAAA+H8AAAAAAAD4fwAAAAAAAPh/AAAAAAAA+H8AAAAAAAD4fwAAAAAAAPh/AAAAAAAA+H8AAAAAAAD4fwAAAAAAAPh/AAAAAAAA+H8AAAAAAAD4fwAAAAAAAPh/AAAAAAAA+H8AAAAAAAD4fwAAAAAAAPh/AAAAAAAA+H8AAAAAAAD4fwAAAAAAAPh/AAAAAAAA+H8AAAAAAAD4fwAAAAAAAPh/AAAAAAAA+H8AAAAAAAD4fwAAAAAAAPh/AAAAAAAA+H8AAAAAAAD4fwAAAAAAAPh/AAAAAAAA+H8AAAAAAAD4fwAAAAAAAPh/AAAAAAAA+H8AAAAAAAD4fwAAAAAAAPh/AAAAAAAA+H8AAAAAAAD4fwAAAAAAAPh/AAAAAAAA+H8AAAAAAAD4fwAAAAAAAPh/AAAAAAAA+H8AAAAAAAD4fwAAAAAAAPh/AAAAAAAA+H8AAAAAAAD4fwAAAAAAAPh/AAAAAAAA+H8AAAAAAAD4fwAAAAAAAPh/AAAAAAAA+H8AAAAAAAD4fwAAAAAAAPh/AAAAAAAA+H8AAAAAAAD4fwAAAAAAAPh/AAAAAAAA+H8AAAAAAAD4fwAAAAAAAPh/AAAAAAAA+H8AAAAAAAD4fwAAAAAAAPh/AAAAAAAA+H8AAAAAAAD4fwAAAAAAAPh/AAAAAAAA+H8AAAAAAAD4fwAAAAAAAPh/AAAAAAAA+H8AAAAAAAD4fwAAAAAAAPh/AAAAAAAA+H8AAAAAAAD4fwAAAAAAAPh/AAAAAAAA+H8AAAAAAAD4fwAAAAAAAPh/AAAAAAAA+H8AAAAAAAD4fwAAAAAAAPh/AAAAAAAA+H8AAAAAAAD4fwAAAAAAAPh/AAAAAAAA+H8AAAAAAAD4fwAAAAAAAPh/AAAAAAAA+H8AAAAAAAD4fwAAAAAAAPh/AAAAAAAA+H8AAAAAAAD4fwAAAAAAAPh/AAAAAAAA+H8AAAAAAAD4fwAAAAAAAPh/AAAAAAAA+H8AAAAAAAD4fwAAAAAAAPh/AAAAAAAA+H8AAAAAAAD4fwAAAAAAAPh/AAAAAAAA+H8AAAAAAAD4fwAAAAAAAPh/AAAAAAAA+H8AAAAAAAD4fwAAAAAAAPh/AAAAAAAA+H8AAAAAAAD4fwAAAAAAAPh/AAAAAAAA+H8AAAAAAAD4fwAAAAAAAPh/AAAAAAAA+H8AAAAAAAD4fwAAAAAAAPh/AAAAAAAA+H8AAAAAAAD4fwAAAAAAAPh/AAAAAAAA+H8AAAAAAAD4fwAAAAAAAPh/AAAAAAAA+H8AAAAAAAD4fwAAAAAAAPh/AAAAAAAA+H8AAAAAAAD4fwAAAAAAAPh/AAAAAAAA+H8AAAAAAAD4fwAAAAAAAPh/AMq8sK6Ovz+ghghuAom/P0BVxz44Q78/sHVcIojevz+YBxo7LzLAP3iSV5I0YsA/AJ3bliqpwD+4WgKkLjvAP/g8874QOsA/kAKViZSevz9gLQU1ZJi/P4CaySNux74/gGQw8iR3vj+gwaByCze+P2BQhWgZRb0/IL0/hKk2vD9w3BQewZS8PxCcVkPnrrw/oJEhjhxIvD9gScTj1k28P6AH0EJpobs/AG7kV5nYuj9gjM4Xq2K7P4CJzsxY2Ls/4L0tqfgVuz9QPYazA3S6P0DHWpVnA7o/gDi9YJZJuj9wdzp7Qta5P6Awmv63qbk/QNq8OPZKuT+AGSOxYFK4P1D8/JsQE7g/cFiHQvAgtz/QcSonX7a3P9AzdafiuLc/AOf3UHwWtz/AZHZg1sa2P0AfbEsxjLY/EPnLAu2Atj9gB4wDOMa3P+DP6aGjUbg/4A89ayhruD8wS2qmJWK4P/Bsx5lg+rg/sL3dlfPDuD/wKGz+XzW5P5Cjabjxpro/EPwFLgVNuz+A0hvASWC7PxCB+n97Yrs/sOMeH7uPuz+AEQAi4YW7P/Cqsen9/rs/cNu6NRV9vD/gC9S6uL+8PzDgoyldwL0/cA1tsg3cvj+g0NV+dDa+P6BSi00W2b4/AIWk6phcvz/QSnz109a9P+B2bSO9U70/cDuusWoRvT/wZWce23i8P2AbMLCOarw/MFdViGpgvD8wtVLKET29P/A3X/+EdL0/4OdQ5Isavj8AmhhFOzu9PxAupWDLSL0/cP0jMzB7vT9Q0iOdRxS9P6C+BM8jIr0/YBKXzOU5vT9gktywDZS9P3CN2vRJaL0/MHknKSodvT/Af0+zPUK9P8D36sSqhb0/QCSgz1KNvT9AeQaBLTu+PxDMN+I5f74/QDB+aWv+vT/wUDU0em2+P2Bzn6G2ar4/QESIz5alvj/wMRs7//O+PyACqoENWb8/AASWk6rqvj+gA4dLzNO+P2D3Jo8byL4/oPEJXKIavz9AzwBryI2/PxAHcDobCL8/4PsoFjy3vj/gHyW9yjy+PxCXQL6IQL4/kE07Vyq8vT8Awkwdb829PzAX57P3070/YEFKv5HwvD9Qq1MTfgq8P8AwjMaKsLs/IKt+1EJiuj/Qfb9wfJe4P2Ai8dz3TLg/8AQuoe9KuD/gmyZwwDK3P1BzYodfX7Y/UBOBWPuptj/AA3mNdqq3P5BNOO+Ro7g/0PjwptJTuD9Q0GBdnAO5P7BzBGlhBbk/cA4wuessuT9Q91zKaLq5P9DuhG8h0bk/wEtIJpq7uT/Qy/Qn8si4PzAiiu+B6Lg/4EZnQNyJuj+wuEOPvvC5P8CGdGGgi7g/QDeUc2vHtz9QKgiAczi4PzDxQiKRrrc/ULbjHQ88uD8gkvhb8024PyAGr6hkt7c/IJwqy/CUuD8Aj0V7OhC5P/CQ7QsgW7k/UF41w8/uuD/wsvNvFlG5PxAtwjZLTrk/0C7Tu18ruT9AjnStpCe5P3CBNiJ2p7g/UE6tbYWJuD+wj2q2ISy5P7Bo9lq/RLg/IPe29gd2uD8A8Hh78A25P5AAaHE9Fro/AJfsF1B3uj8ARD0HKei5P6Csl9UfTbk/sK3gUCozuj9Auee5Y3C6PyDVNpSrA7o/QH5CplY5uj9gDIyNr4i5P2D0tXQnK7k/8Dzlb2HuuD+AcYSjfzK5P6CMXXJ8BLk/8EhVe/jouD+QzvfyM464PwDxI5wMp7g/gKMCSzQhuD8QdeKatsa4P2BOq+wyhrg/QAVZmNTKuD+QpWW120K5PxDKVFnIL7k/gF/ozkxDuT9AU4/AldS4P2BERTmYcbk/oFskItgGuT+gDOXHHSi5PyAtQIekEro/0JDrHX8ouj/AWv1Mnle6PzDSz5Lcpbk/YNbAodVsuT9A2rS2jWK5P/DCUrlGm7k/IIOLmLpCuT9gWDBtCpa4PwDqEf8QGrk/YPE8fvSiuD/Qt1HjYOG4P0AeX6NRcrg/kB0KBf0PuD+AJM/I0gm4P7AIIYw2U7c/kGQbEkvotj/QbzbQJyG3P3Dsp/k+lLY/oARG1839tT+wdA87BEm1P1BFnzAhbLQ/MDCKvskrtD+A+ahViRG0PxAiN9uUJrQ/UKxw+/evsz9A10lg0v6zP4AAWeJXPLM/4LvRy5uosz9gjNaXuKOzP6AVjBSDZLM/wG9LfiNusz9ww8MGvaGyPyCBeNtxlrI/ALopWXMjsj+wqCfSNMGxP0A6D6kI8LE/sAyP3N36sT/wXbvKUgSyP1A0gQAagrE/QN+04XvfsT+ghc7II8CzPzAXi1BRLbQ/wEphdIvpsz8wCD8nUyq0P/ASkPCtQrM/EJLAhgTKsj8geaKtOsiyP8ADYZNxB7M/MCI6ihsKsz+gKzIe9iazP9BKRmtZybM/sPmBcEl1sz/wGtW2vCuyPxAHFxfT9rE/gImknsgpsT/AZ66MHYaxP/Dshhm52rE/ALt1JCkJsj+AF3oPDyayP6AnLR9e1rE/oClzzc2Gsj8QLZXHapixPwAcCI8LorE/sLS5etmSsT8wQQgtQh2yP5DeezmaArI/MI2Yjy/+sT+AwIcaPWCyP+CkYK/W+LE/gJ1h5No/sT9wyaXpvFSyP2DlbHbI2bE/IO9rhi0osj+g9Utf3YCyP3AlVb05ALQ/4IBvd+O0tD+Ae+N7qJmzPwDwp5Hx3LQ/UHvRf7EOtT9g9lettaK0P5BX3ysqDrQ/wCci6buitD+gcyxEePy0PwC22EAo6rQ/EBXH1H+ktT9A4EY+t2G1P5DlI+7+o7U/0AQtvhMDtT8A1sVez1+1P1DKTqZqlbU/gIs3q6JStT8gGiB3qv60P1AuiUPP67Q/IBXKweuetT8AjrbPwLG0P5CXfQCPWLQ/YMevzf3Tsz9QtF+bg4K0P7A8q/Te5bM/wNqautcWsz9wEh478PqzPyBfQ/xEcLQ/kH+VXKP3sz/g1QbMXpG0P/BSiE1hIbQ/kF2SfkTlsz/wFJ6tP6SzP8DdmQEeWLM/UJA/4Zf2sz+QTTPzyRS0P8DGTXcEc7M/4Jg9v8A3sz8wEtxMQrOyP9C3Dt5TD7Q/EFnSFyoQtD9w51bpP5azP2AuX40oF7Q/kKQ4uHHKtD9AwvWJ7im0P9DQsTu2i7Q/0CixrkbCtD+wX1P4YL+0P1DquXpft7Q/kJjhVashtT8Quq7zXrC0P3BmsaHCg7U/gFnuZuUutT/QowlbH6W1P5B03LcjcrU/IBY8DPCXtD+wfOb7kly0P+BQpXUA0bQ/oKtZ5wI2tT9QRgofGeG0P2C61AulU7U/",
          "dtype": "f8"
         }
        }
       ],
       "layout": {
        "height": 800,
        "template": {
         "data": {
          "bar": [
           {
            "error_x": {
             "color": "#2a3f5f"
            },
            "error_y": {
             "color": "#2a3f5f"
            },
            "marker": {
             "line": {
              "color": "#E5ECF6",
              "width": 0.5
             },
             "pattern": {
              "fillmode": "overlay",
              "size": 10,
              "solidity": 0.2
             }
            },
            "type": "bar"
           }
          ],
          "barpolar": [
           {
            "marker": {
             "line": {
              "color": "#E5ECF6",
              "width": 0.5
             },
             "pattern": {
              "fillmode": "overlay",
              "size": 10,
              "solidity": 0.2
             }
            },
            "type": "barpolar"
           }
          ],
          "carpet": [
           {
            "aaxis": {
             "endlinecolor": "#2a3f5f",
             "gridcolor": "white",
             "linecolor": "white",
             "minorgridcolor": "white",
             "startlinecolor": "#2a3f5f"
            },
            "baxis": {
             "endlinecolor": "#2a3f5f",
             "gridcolor": "white",
             "linecolor": "white",
             "minorgridcolor": "white",
             "startlinecolor": "#2a3f5f"
            },
            "type": "carpet"
           }
          ],
          "choropleth": [
           {
            "colorbar": {
             "outlinewidth": 0,
             "ticks": ""
            },
            "type": "choropleth"
           }
          ],
          "contour": [
           {
            "colorbar": {
             "outlinewidth": 0,
             "ticks": ""
            },
            "colorscale": [
             [
              0,
              "#0d0887"
             ],
             [
              0.1111111111111111,
              "#46039f"
             ],
             [
              0.2222222222222222,
              "#7201a8"
             ],
             [
              0.3333333333333333,
              "#9c179e"
             ],
             [
              0.4444444444444444,
              "#bd3786"
             ],
             [
              0.5555555555555556,
              "#d8576b"
             ],
             [
              0.6666666666666666,
              "#ed7953"
             ],
             [
              0.7777777777777778,
              "#fb9f3a"
             ],
             [
              0.8888888888888888,
              "#fdca26"
             ],
             [
              1,
              "#f0f921"
             ]
            ],
            "type": "contour"
           }
          ],
          "contourcarpet": [
           {
            "colorbar": {
             "outlinewidth": 0,
             "ticks": ""
            },
            "type": "contourcarpet"
           }
          ],
          "heatmap": [
           {
            "colorbar": {
             "outlinewidth": 0,
             "ticks": ""
            },
            "colorscale": [
             [
              0,
              "#0d0887"
             ],
             [
              0.1111111111111111,
              "#46039f"
             ],
             [
              0.2222222222222222,
              "#7201a8"
             ],
             [
              0.3333333333333333,
              "#9c179e"
             ],
             [
              0.4444444444444444,
              "#bd3786"
             ],
             [
              0.5555555555555556,
              "#d8576b"
             ],
             [
              0.6666666666666666,
              "#ed7953"
             ],
             [
              0.7777777777777778,
              "#fb9f3a"
             ],
             [
              0.8888888888888888,
              "#fdca26"
             ],
             [
              1,
              "#f0f921"
             ]
            ],
            "type": "heatmap"
           }
          ],
          "histogram": [
           {
            "marker": {
             "pattern": {
              "fillmode": "overlay",
              "size": 10,
              "solidity": 0.2
             }
            },
            "type": "histogram"
           }
          ],
          "histogram2d": [
           {
            "colorbar": {
             "outlinewidth": 0,
             "ticks": ""
            },
            "colorscale": [
             [
              0,
              "#0d0887"
             ],
             [
              0.1111111111111111,
              "#46039f"
             ],
             [
              0.2222222222222222,
              "#7201a8"
             ],
             [
              0.3333333333333333,
              "#9c179e"
             ],
             [
              0.4444444444444444,
              "#bd3786"
             ],
             [
              0.5555555555555556,
              "#d8576b"
             ],
             [
              0.6666666666666666,
              "#ed7953"
             ],
             [
              0.7777777777777778,
              "#fb9f3a"
             ],
             [
              0.8888888888888888,
              "#fdca26"
             ],
             [
              1,
              "#f0f921"
             ]
            ],
            "type": "histogram2d"
           }
          ],
          "histogram2dcontour": [
           {
            "colorbar": {
             "outlinewidth": 0,
             "ticks": ""
            },
            "colorscale": [
             [
              0,
              "#0d0887"
             ],
             [
              0.1111111111111111,
              "#46039f"
             ],
             [
              0.2222222222222222,
              "#7201a8"
             ],
             [
              0.3333333333333333,
              "#9c179e"
             ],
             [
              0.4444444444444444,
              "#bd3786"
             ],
             [
              0.5555555555555556,
              "#d8576b"
             ],
             [
              0.6666666666666666,
              "#ed7953"
             ],
             [
              0.7777777777777778,
              "#fb9f3a"
             ],
             [
              0.8888888888888888,
              "#fdca26"
             ],
             [
              1,
              "#f0f921"
             ]
            ],
            "type": "histogram2dcontour"
           }
          ],
          "mesh3d": [
           {
            "colorbar": {
             "outlinewidth": 0,
             "ticks": ""
            },
            "type": "mesh3d"
           }
          ],
          "parcoords": [
           {
            "line": {
             "colorbar": {
              "outlinewidth": 0,
              "ticks": ""
             }
            },
            "type": "parcoords"
           }
          ],
          "pie": [
           {
            "automargin": true,
            "type": "pie"
           }
          ],
          "scatter": [
           {
            "fillpattern": {
             "fillmode": "overlay",
             "size": 10,
             "solidity": 0.2
            },
            "type": "scatter"
           }
          ],
          "scatter3d": [
           {
            "line": {
             "colorbar": {
              "outlinewidth": 0,
              "ticks": ""
             }
            },
            "marker": {
             "colorbar": {
              "outlinewidth": 0,
              "ticks": ""
             }
            },
            "type": "scatter3d"
           }
          ],
          "scattercarpet": [
           {
            "marker": {
             "colorbar": {
              "outlinewidth": 0,
              "ticks": ""
             }
            },
            "type": "scattercarpet"
           }
          ],
          "scattergeo": [
           {
            "marker": {
             "colorbar": {
              "outlinewidth": 0,
              "ticks": ""
             }
            },
            "type": "scattergeo"
           }
          ],
          "scattergl": [
           {
            "marker": {
             "colorbar": {
              "outlinewidth": 0,
              "ticks": ""
             }
            },
            "type": "scattergl"
           }
          ],
          "scattermap": [
           {
            "marker": {
             "colorbar": {
              "outlinewidth": 0,
              "ticks": ""
             }
            },
            "type": "scattermap"
           }
          ],
          "scattermapbox": [
           {
            "marker": {
             "colorbar": {
              "outlinewidth": 0,
              "ticks": ""
             }
            },
            "type": "scattermapbox"
           }
          ],
          "scatterpolar": [
           {
            "marker": {
             "colorbar": {
              "outlinewidth": 0,
              "ticks": ""
             }
            },
            "type": "scatterpolar"
           }
          ],
          "scatterpolargl": [
           {
            "marker": {
             "colorbar": {
              "outlinewidth": 0,
              "ticks": ""
             }
            },
            "type": "scatterpolargl"
           }
          ],
          "scatterternary": [
           {
            "marker": {
             "colorbar": {
              "outlinewidth": 0,
              "ticks": ""
             }
            },
            "type": "scatterternary"
           }
          ],
          "surface": [
           {
            "colorbar": {
             "outlinewidth": 0,
             "ticks": ""
            },
            "colorscale": [
             [
              0,
              "#0d0887"
             ],
             [
              0.1111111111111111,
              "#46039f"
             ],
             [
              0.2222222222222222,
              "#7201a8"
             ],
             [
              0.3333333333333333,
              "#9c179e"
             ],
             [
              0.4444444444444444,
              "#bd3786"
             ],
             [
              0.5555555555555556,
              "#d8576b"
             ],
             [
              0.6666666666666666,
              "#ed7953"
             ],
             [
              0.7777777777777778,
              "#fb9f3a"
             ],
             [
              0.8888888888888888,
              "#fdca26"
             ],
             [
              1,
              "#f0f921"
             ]
            ],
            "type": "surface"
           }
          ],
          "table": [
           {
            "cells": {
             "fill": {
              "color": "#EBF0F8"
             },
             "line": {
              "color": "white"
             }
            },
            "header": {
             "fill": {
              "color": "#C8D4E3"
             },
             "line": {
              "color": "white"
             }
            },
            "type": "table"
           }
          ]
         },
         "layout": {
          "annotationdefaults": {
           "arrowcolor": "#2a3f5f",
           "arrowhead": 0,
           "arrowwidth": 1
          },
          "autotypenumbers": "strict",
          "coloraxis": {
           "colorbar": {
            "outlinewidth": 0,
            "ticks": ""
           }
          },
          "colorscale": {
           "diverging": [
            [
             0,
             "#8e0152"
            ],
            [
             0.1,
             "#c51b7d"
            ],
            [
             0.2,
             "#de77ae"
            ],
            [
             0.3,
             "#f1b6da"
            ],
            [
             0.4,
             "#fde0ef"
            ],
            [
             0.5,
             "#f7f7f7"
            ],
            [
             0.6,
             "#e6f5d0"
            ],
            [
             0.7,
             "#b8e186"
            ],
            [
             0.8,
             "#7fbc41"
            ],
            [
             0.9,
             "#4d9221"
            ],
            [
             1,
             "#276419"
            ]
           ],
           "sequential": [
            [
             0,
             "#0d0887"
            ],
            [
             0.1111111111111111,
             "#46039f"
            ],
            [
             0.2222222222222222,
             "#7201a8"
            ],
            [
             0.3333333333333333,
             "#9c179e"
            ],
            [
             0.4444444444444444,
             "#bd3786"
            ],
            [
             0.5555555555555556,
             "#d8576b"
            ],
            [
             0.6666666666666666,
             "#ed7953"
            ],
            [
             0.7777777777777778,
             "#fb9f3a"
            ],
            [
             0.8888888888888888,
             "#fdca26"
            ],
            [
             1,
             "#f0f921"
            ]
           ],
           "sequentialminus": [
            [
             0,
             "#0d0887"
            ],
            [
             0.1111111111111111,
             "#46039f"
            ],
            [
             0.2222222222222222,
             "#7201a8"
            ],
            [
             0.3333333333333333,
             "#9c179e"
            ],
            [
             0.4444444444444444,
             "#bd3786"
            ],
            [
             0.5555555555555556,
             "#d8576b"
            ],
            [
             0.6666666666666666,
             "#ed7953"
            ],
            [
             0.7777777777777778,
             "#fb9f3a"
            ],
            [
             0.8888888888888888,
             "#fdca26"
            ],
            [
             1,
             "#f0f921"
            ]
           ]
          },
          "colorway": [
           "#636efa",
           "#EF553B",
           "#00cc96",
           "#ab63fa",
           "#FFA15A",
           "#19d3f3",
           "#FF6692",
           "#B6E880",
           "#FF97FF",
           "#FECB52"
          ],
          "font": {
           "color": "#2a3f5f"
          },
          "geo": {
           "bgcolor": "white",
           "lakecolor": "white",
           "landcolor": "#E5ECF6",
           "showlakes": true,
           "showland": true,
           "subunitcolor": "white"
          },
          "hoverlabel": {
           "align": "left"
          },
          "hovermode": "closest",
          "mapbox": {
           "style": "light"
          },
          "paper_bgcolor": "white",
          "plot_bgcolor": "#E5ECF6",
          "polar": {
           "angularaxis": {
            "gridcolor": "white",
            "linecolor": "white",
            "ticks": ""
           },
           "bgcolor": "#E5ECF6",
           "radialaxis": {
            "gridcolor": "white",
            "linecolor": "white",
            "ticks": ""
           }
          },
          "scene": {
           "xaxis": {
            "backgroundcolor": "#E5ECF6",
            "gridcolor": "white",
            "gridwidth": 2,
            "linecolor": "white",
            "showbackground": true,
            "ticks": "",
            "zerolinecolor": "white"
           },
           "yaxis": {
            "backgroundcolor": "#E5ECF6",
            "gridcolor": "white",
            "gridwidth": 2,
            "linecolor": "white",
            "showbackground": true,
            "ticks": "",
            "zerolinecolor": "white"
           },
           "zaxis": {
            "backgroundcolor": "#E5ECF6",
            "gridcolor": "white",
            "gridwidth": 2,
            "linecolor": "white",
            "showbackground": true,
            "ticks": "",
            "zerolinecolor": "white"
           }
          },
          "shapedefaults": {
           "line": {
            "color": "#2a3f5f"
           }
          },
          "ternary": {
           "aaxis": {
            "gridcolor": "white",
            "linecolor": "white",
            "ticks": ""
           },
           "baxis": {
            "gridcolor": "white",
            "linecolor": "white",
            "ticks": ""
           },
           "bgcolor": "#E5ECF6",
           "caxis": {
            "gridcolor": "white",
            "linecolor": "white",
            "ticks": ""
           }
          },
          "title": {
           "x": 0.05
          },
          "xaxis": {
           "automargin": true,
           "gridcolor": "white",
           "linecolor": "white",
           "ticks": "",
           "title": {
            "standoff": 15
           },
           "zerolinecolor": "white",
           "zerolinewidth": 2
          },
          "yaxis": {
           "automargin": true,
           "gridcolor": "white",
           "linecolor": "white",
           "ticks": "",
           "title": {
            "standoff": 15
           },
           "zerolinecolor": "white",
           "zerolinewidth": 2
          }
         }
        },
        "xaxis": {
         "tickformat": ".2%"
        }
       }
      }
     },
     "metadata": {},
     "output_type": "display_data"
    }
   ],
   "source": [
    "go.Figure(\n",
    "    data=[\n",
    "        go.Box(\n",
    "            x=msci_world[column],\n",
    "            name=column,\n",
    "        )\n",
    "        for column in msci_world.loc[:, \"1m_annualized\":\"30y_annualized\"].columns\n",
    "    ],\n",
    "    layout=go.Layout(\n",
    "        height=800,\n",
    "        xaxis=dict(\n",
    "            tickformat=\".2%\",\n",
    "        ),\n",
    "    ),\n",
    ")"
   ]
  },
  {
   "cell_type": "code",
   "execution_count": 30,
   "metadata": {},
   "outputs": [],
   "source": [
    "treasury_rates = await load_us_treasury_rates_async()"
   ]
  },
  {
   "cell_type": "code",
   "execution_count": 31,
   "metadata": {},
   "outputs": [
    {
     "data": {
      "text/html": [
       "<div>\n",
       "<style scoped>\n",
       "    .dataframe tbody tr th:only-of-type {\n",
       "        vertical-align: middle;\n",
       "    }\n",
       "\n",
       "    .dataframe tbody tr th {\n",
       "        vertical-align: top;\n",
       "    }\n",
       "\n",
       "    .dataframe thead th {\n",
       "        text-align: right;\n",
       "    }\n",
       "</style>\n",
       "<table border=\"1\" class=\"dataframe\">\n",
       "  <thead>\n",
       "    <tr style=\"text-align: right;\">\n",
       "      <th></th>\n",
       "      <th>1MO</th>\n",
       "      <th>3MO</th>\n",
       "      <th>6MO</th>\n",
       "      <th>1</th>\n",
       "      <th>2</th>\n",
       "      <th>3</th>\n",
       "      <th>5</th>\n",
       "      <th>7</th>\n",
       "      <th>10</th>\n",
       "      <th>20</th>\n",
       "      <th>30</th>\n",
       "    </tr>\n",
       "    <tr>\n",
       "      <th>date</th>\n",
       "      <th></th>\n",
       "      <th></th>\n",
       "      <th></th>\n",
       "      <th></th>\n",
       "      <th></th>\n",
       "      <th></th>\n",
       "      <th></th>\n",
       "      <th></th>\n",
       "      <th></th>\n",
       "      <th></th>\n",
       "      <th></th>\n",
       "    </tr>\n",
       "  </thead>\n",
       "  <tbody>\n",
       "    <tr>\n",
       "      <th>1962-01-02</th>\n",
       "      <td>NaN</td>\n",
       "      <td>NaN</td>\n",
       "      <td>NaN</td>\n",
       "      <td>3.220000</td>\n",
       "      <td>NaN</td>\n",
       "      <td>3.70</td>\n",
       "      <td>3.880000</td>\n",
       "      <td>NaN</td>\n",
       "      <td>4.060000</td>\n",
       "      <td>4.070000</td>\n",
       "      <td>NaN</td>\n",
       "    </tr>\n",
       "    <tr>\n",
       "      <th>1962-01-03</th>\n",
       "      <td>NaN</td>\n",
       "      <td>NaN</td>\n",
       "      <td>NaN</td>\n",
       "      <td>3.240000</td>\n",
       "      <td>NaN</td>\n",
       "      <td>3.70</td>\n",
       "      <td>3.870000</td>\n",
       "      <td>NaN</td>\n",
       "      <td>4.030000</td>\n",
       "      <td>4.070000</td>\n",
       "      <td>NaN</td>\n",
       "    </tr>\n",
       "    <tr>\n",
       "      <th>1962-01-04</th>\n",
       "      <td>NaN</td>\n",
       "      <td>NaN</td>\n",
       "      <td>NaN</td>\n",
       "      <td>3.240000</td>\n",
       "      <td>NaN</td>\n",
       "      <td>3.69</td>\n",
       "      <td>3.860000</td>\n",
       "      <td>NaN</td>\n",
       "      <td>3.990000</td>\n",
       "      <td>4.060000</td>\n",
       "      <td>NaN</td>\n",
       "    </tr>\n",
       "    <tr>\n",
       "      <th>1962-01-05</th>\n",
       "      <td>NaN</td>\n",
       "      <td>NaN</td>\n",
       "      <td>NaN</td>\n",
       "      <td>3.260000</td>\n",
       "      <td>NaN</td>\n",
       "      <td>3.71</td>\n",
       "      <td>3.890000</td>\n",
       "      <td>NaN</td>\n",
       "      <td>4.020000</td>\n",
       "      <td>4.070000</td>\n",
       "      <td>NaN</td>\n",
       "    </tr>\n",
       "    <tr>\n",
       "      <th>1962-01-06</th>\n",
       "      <td>NaN</td>\n",
       "      <td>NaN</td>\n",
       "      <td>NaN</td>\n",
       "      <td>3.276667</td>\n",
       "      <td>NaN</td>\n",
       "      <td>3.71</td>\n",
       "      <td>3.896667</td>\n",
       "      <td>NaN</td>\n",
       "      <td>4.023333</td>\n",
       "      <td>4.073333</td>\n",
       "      <td>NaN</td>\n",
       "    </tr>\n",
       "    <tr>\n",
       "      <th>...</th>\n",
       "      <td>...</td>\n",
       "      <td>...</td>\n",
       "      <td>...</td>\n",
       "      <td>...</td>\n",
       "      <td>...</td>\n",
       "      <td>...</td>\n",
       "      <td>...</td>\n",
       "      <td>...</td>\n",
       "      <td>...</td>\n",
       "      <td>...</td>\n",
       "      <td>...</td>\n",
       "    </tr>\n",
       "    <tr>\n",
       "      <th>2025-08-25</th>\n",
       "      <td>4.45</td>\n",
       "      <td>4.29</td>\n",
       "      <td>4.08</td>\n",
       "      <td>3.880000</td>\n",
       "      <td>3.73</td>\n",
       "      <td>3.68</td>\n",
       "      <td>3.800000</td>\n",
       "      <td>4.01</td>\n",
       "      <td>4.280000</td>\n",
       "      <td>4.860000</td>\n",
       "      <td>4.89</td>\n",
       "    </tr>\n",
       "    <tr>\n",
       "      <th>2025-08-26</th>\n",
       "      <td>4.42</td>\n",
       "      <td>4.28</td>\n",
       "      <td>4.06</td>\n",
       "      <td>3.850000</td>\n",
       "      <td>3.61</td>\n",
       "      <td>3.63</td>\n",
       "      <td>3.750000</td>\n",
       "      <td>3.98</td>\n",
       "      <td>4.260000</td>\n",
       "      <td>4.860000</td>\n",
       "      <td>4.90</td>\n",
       "    </tr>\n",
       "    <tr>\n",
       "      <th>2025-08-27</th>\n",
       "      <td>4.42</td>\n",
       "      <td>4.26</td>\n",
       "      <td>4.04</td>\n",
       "      <td>3.830000</td>\n",
       "      <td>3.59</td>\n",
       "      <td>3.59</td>\n",
       "      <td>3.690000</td>\n",
       "      <td>3.95</td>\n",
       "      <td>4.240000</td>\n",
       "      <td>4.870000</td>\n",
       "      <td>4.91</td>\n",
       "    </tr>\n",
       "    <tr>\n",
       "      <th>2025-08-28</th>\n",
       "      <td>4.42</td>\n",
       "      <td>4.26</td>\n",
       "      <td>4.04</td>\n",
       "      <td>3.850000</td>\n",
       "      <td>3.62</td>\n",
       "      <td>3.60</td>\n",
       "      <td>3.690000</td>\n",
       "      <td>3.92</td>\n",
       "      <td>4.220000</td>\n",
       "      <td>4.830000</td>\n",
       "      <td>4.88</td>\n",
       "    </tr>\n",
       "    <tr>\n",
       "      <th>2025-08-29</th>\n",
       "      <td>4.41</td>\n",
       "      <td>4.23</td>\n",
       "      <td>4.01</td>\n",
       "      <td>3.830000</td>\n",
       "      <td>3.59</td>\n",
       "      <td>3.58</td>\n",
       "      <td>3.680000</td>\n",
       "      <td>3.92</td>\n",
       "      <td>4.230000</td>\n",
       "      <td>4.860000</td>\n",
       "      <td>4.92</td>\n",
       "    </tr>\n",
       "  </tbody>\n",
       "</table>\n",
       "<p>23251 rows × 11 columns</p>\n",
       "</div>"
      ],
      "text/plain": [
       "             1MO   3MO   6MO         1     2     3         5     7        10  \\\n",
       "date                                                                           \n",
       "1962-01-02   NaN   NaN   NaN  3.220000   NaN  3.70  3.880000   NaN  4.060000   \n",
       "1962-01-03   NaN   NaN   NaN  3.240000   NaN  3.70  3.870000   NaN  4.030000   \n",
       "1962-01-04   NaN   NaN   NaN  3.240000   NaN  3.69  3.860000   NaN  3.990000   \n",
       "1962-01-05   NaN   NaN   NaN  3.260000   NaN  3.71  3.890000   NaN  4.020000   \n",
       "1962-01-06   NaN   NaN   NaN  3.276667   NaN  3.71  3.896667   NaN  4.023333   \n",
       "...          ...   ...   ...       ...   ...   ...       ...   ...       ...   \n",
       "2025-08-25  4.45  4.29  4.08  3.880000  3.73  3.68  3.800000  4.01  4.280000   \n",
       "2025-08-26  4.42  4.28  4.06  3.850000  3.61  3.63  3.750000  3.98  4.260000   \n",
       "2025-08-27  4.42  4.26  4.04  3.830000  3.59  3.59  3.690000  3.95  4.240000   \n",
       "2025-08-28  4.42  4.26  4.04  3.850000  3.62  3.60  3.690000  3.92  4.220000   \n",
       "2025-08-29  4.41  4.23  4.01  3.830000  3.59  3.58  3.680000  3.92  4.230000   \n",
       "\n",
       "                  20    30  \n",
       "date                        \n",
       "1962-01-02  4.070000   NaN  \n",
       "1962-01-03  4.070000   NaN  \n",
       "1962-01-04  4.060000   NaN  \n",
       "1962-01-05  4.070000   NaN  \n",
       "1962-01-06  4.073333   NaN  \n",
       "...              ...   ...  \n",
       "2025-08-25  4.860000  4.89  \n",
       "2025-08-26  4.860000  4.90  \n",
       "2025-08-27  4.870000  4.91  \n",
       "2025-08-28  4.830000  4.88  \n",
       "2025-08-29  4.860000  4.92  \n",
       "\n",
       "[23251 rows x 11 columns]"
      ]
     },
     "execution_count": 31,
     "metadata": {},
     "output_type": "execute_result"
    }
   ],
   "source": [
    "treasury_rates"
   ]
  }
 ],
 "metadata": {
  "kernelspec": {
   "display_name": "stock-market-returns",
   "language": "python",
   "name": "python3"
  },
  "language_info": {
   "codemirror_mode": {
    "name": "ipython",
    "version": 3
   },
   "file_extension": ".py",
   "mimetype": "text/x-python",
   "name": "python",
   "nbconvert_exporter": "python",
   "pygments_lexer": "ipython3",
   "version": "3.13.9"
  },
  "orig_nbformat": 4
 },
 "nbformat": 4,
 "nbformat_minor": 2
}
