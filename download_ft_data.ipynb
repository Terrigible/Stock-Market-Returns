{
 "cells": [
  {
   "cell_type": "code",
   "execution_count": 1,
   "id": "a1f645e5",
   "metadata": {},
   "outputs": [],
   "source": [
    "import re\n",
    "import pandas as pd\n",
    "import httpx\n",
    "import time"
   ]
  },
  {
   "cell_type": "code",
   "execution_count": 2,
   "id": "8d18612d",
   "metadata": {},
   "outputs": [],
   "source": [
    "res = httpx.get(\"https://markets.ft.com/research/webservices/securities/v1/docs\")\n",
    "source = re.search(\"source=([0-9a-f]*)\", res.content.decode(\"utf-8\"))\n",
    "if not source:\n",
    "    raise ValueError(\"API key not found in page\")\n",
    "api_key = source.group(1)"
   ]
  },
  {
   "cell_type": "code",
   "execution_count": 3,
   "id": "85328e48",
   "metadata": {},
   "outputs": [],
   "source": [
    "securities = [\n",
    "    (\"IE00B3SBSR82:USD\", \"GMO Quality Investment Fund\", \"2010-11-10\"),\n",
    "    (\"LU0690375182:EUR\", \"Fundsmith Equity Fund T EUR Acc\", \"2011-11-02\"),\n",
    "    (\"LU0690374615:EUR\", \"Fundsmith Equity Fund R EUR Acc\", \"2011-11-02\"),\n",
    "    (\n",
    "        \"IE00B3Z8MM50:GBP\",\n",
    "        \"Dimensional World Equity Fund GBP Accumulation\",\n",
    "        \"2011-09-09\",\n",
    "    ),\n",
    "    (\"TFTSTIU:FSI\", \"Straits Times Index USD Gross\", \"1999-08-31\"),\n",
    "    (\"SPXTR:REU\", \"S&P 500 USD Gross\", \"1970-01-30\"),\n",
    "    (\"SPXNTR:IOM\", \"S&P 500 USD Net\", \"1996-03-29\"),\n",
    "    (\"TFTAWORLDSU:FSI\", \"FTSE All-World USD Gross\", \"1999-12-31\"),\n",
    "    (\"_RE2TR:SES\", \"iEdge S-REIT Leaders SGD Gross\", \"2010-09-30\"),\n",
    "]"
   ]
  },
  {
   "cell_type": "code",
   "execution_count": 4,
   "id": "ba1e0857",
   "metadata": {},
   "outputs": [],
   "source": [
    "for symbol, name, start_date in securities:\n",
    "    response = httpx.get(\n",
    "        \"https://markets.ft.com/research/webservices/securities/v1/historical-series-quotes\",\n",
    "        params={\n",
    "            \"source\": api_key,\n",
    "            \"symbols\": symbol,\n",
    "            \"dayCount\": (pd.Timestamp.today() - pd.Timestamp(start_date)).days,\n",
    "        },\n",
    "    )\n",
    "    backoff = 1\n",
    "    while (\n",
    "        response.json()[\"data\"][\"items\"][0][\"historicalSeries\"].get(\n",
    "            \"historicalQuoteData\"\n",
    "        )\n",
    "        is None\n",
    "    ):\n",
    "        print(f\"Retrying {name}...\")\n",
    "        time.sleep(backoff)\n",
    "        backoff = min(backoff * 2, 60)\n",
    "        response = httpx.get(\n",
    "            \"https://markets.ft.com/research/webservices/securities/v1/historical-series-quotes\",\n",
    "            params={\n",
    "                \"source\": api_key,\n",
    "                \"symbols\": symbol,\n",
    "                \"dayCount\": (pd.Timestamp.today() - pd.Timestamp(start_date)).days,\n",
    "            },\n",
    "        )\n",
    "    df = (\n",
    "        pd.DataFrame(\n",
    "            response.json()[\"data\"][\"items\"][0][\"historicalSeries\"][\n",
    "                \"historicalQuoteData\"\n",
    "            ]\n",
    "        )\n",
    "        .assign(date=lambda df: df[\"date\"].pipe(pd.to_datetime))\n",
    "        .set_index(\"date\")[::-1]\n",
    "    )\n",
    "    time.sleep(1)\n",
    "    df.to_csv(f\"./data/{name}.csv\")\n"
   ]
  }
 ],
 "metadata": {
  "kernelspec": {
   "display_name": "stock-market-returns (3.12.11)",
   "language": "python",
   "name": "python3"
  },
  "language_info": {
   "codemirror_mode": {
    "name": "ipython",
    "version": 3
   },
   "file_extension": ".py",
   "mimetype": "text/x-python",
   "name": "python",
   "nbconvert_exporter": "python",
   "pygments_lexer": "ipython3",
   "version": "3.12.11"
  }
 },
 "nbformat": 4,
 "nbformat_minor": 5
}
