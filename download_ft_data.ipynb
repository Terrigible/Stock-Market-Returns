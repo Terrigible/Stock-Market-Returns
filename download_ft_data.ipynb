{
 "cells": [
  {
   "cell_type": "code",
   "execution_count": 1,
   "id": "3494ccdd",
   "metadata": {},
   "outputs": [],
   "source": [
    "from selenium.webdriver import Firefox\n",
    "import re\n",
    "import pandas as pd\n",
    "import httpx\n",
    "import time"
   ]
  },
  {
   "cell_type": "code",
   "execution_count": 2,
   "id": "04afa1b0",
   "metadata": {},
   "outputs": [],
   "source": [
    "driver = Firefox()"
   ]
  },
  {
   "cell_type": "code",
   "execution_count": 3,
   "id": "732958f4",
   "metadata": {},
   "outputs": [],
   "source": [
    "driver.get(\"https://markets.ft.com/research/webservices/securities/v1/docs\")"
   ]
  },
  {
   "cell_type": "code",
   "execution_count": 4,
   "id": "be08b12f",
   "metadata": {},
   "outputs": [],
   "source": [
    "driver.find_element(\n",
    "    \"xpath\", \"/html/body/div/div[1]/div/div[1]/ul/li[2]/ul/li[7]/a\"\n",
    ").click()"
   ]
  },
  {
   "cell_type": "code",
   "execution_count": 5,
   "id": "e6b78309",
   "metadata": {},
   "outputs": [],
   "source": [
    "link = driver.find_element(\n",
    "    \"xpath\",\n",
    "    \"/html/body/div/div[1]/div/div[2]/article[7]/div[2]/table/tbody/tr/td[2]/div[2]/code\",\n",
    ").text"
   ]
  },
  {
   "cell_type": "code",
   "execution_count": 6,
   "id": "e7d81dc4",
   "metadata": {},
   "outputs": [],
   "source": [
    "source = re.search(r\"source=(.*)\", link)"
   ]
  },
  {
   "cell_type": "code",
   "execution_count": 7,
   "id": "0aa4125c",
   "metadata": {},
   "outputs": [],
   "source": [
    "if source is None:\n",
    "    raise ValueError(\"Key not found\")\n",
    "api_key = source.group(1)"
   ]
  },
  {
   "cell_type": "code",
   "execution_count": 8,
   "id": "cd1a4d3d",
   "metadata": {},
   "outputs": [],
   "source": [
    "driver.close()"
   ]
  },
  {
   "cell_type": "code",
   "execution_count": 9,
   "id": "3352ab39",
   "metadata": {},
   "outputs": [],
   "source": [
    "securities = [\n",
    "    (\"IE00B3SBSR82:USD\", \"GMO Quality Investment Fund\", \"2010-11-10\"),\n",
    "    (\"LU0690375182:EUR\", \"Fundsmith Equity Fund T EUR Acc\", \"2011-11-02\"),\n",
    "    (\"LU0690374615:EUR\", \"Fundsmith Equity Fund R EUR Acc\", \"2011-11-02\"),\n",
    "    (\n",
    "        \"IE00B3Z8MM50:GBP\",\n",
    "        \"Dimensional World Equity Fund GBP Accumulation\",\n",
    "        \"2011-09-09\",\n",
    "    ),\n",
    "    (\"TFTSTIU:FSI\", \"Straits Times Index USD Gross\", \"1999-08-31\"),\n",
    "    (\"SPXTR:REU\", \"S&P 500 USD Gross\", \"1970-01-30\"),\n",
    "    (\"SPXNTR:IOM\", \"S&P 500 USD Net\", \"1996-03-29\"),\n",
    "    (\"TFTAWORLDSU:FSI\", \"FTSE All-World USD Gross\", \"1999-12-31\"),\n",
    "    (\"_RE2TR:SES\", \"iEdge S-REIT Leaders SGD Gross\", \"2010-09-30\"),\n",
    "]"
   ]
  },
  {
   "cell_type": "code",
   "execution_count": null,
   "id": "94103acd",
   "metadata": {},
   "outputs": [
    {
     "name": "stdout",
     "output_type": "stream",
     "text": [
      "Retrying iEdge S-REIT Leaders SGD Gross...\n",
      "Retrying iEdge S-REIT Leaders SGD Gross...\n",
      "Retrying iEdge S-REIT Leaders SGD Gross...\n",
      "Retrying iEdge S-REIT Leaders SGD Gross...\n",
      "Retrying iEdge S-REIT Leaders SGD Gross...\n",
      "Retrying iEdge S-REIT Leaders SGD Gross...\n",
      "Retrying iEdge S-REIT Leaders SGD Gross...\n"
     ]
    }
   ],
   "source": [
    "for symbol, name, start_date in securities:\n",
    "    response = httpx.get(\n",
    "        \"https://markets.ft.com/research/webservices/securities/v1/historical-series-quotes\",\n",
    "        params={\n",
    "            \"source\": api_key,\n",
    "            \"symbols\": symbol,\n",
    "            \"dayCount\": (pd.Timestamp.today() - pd.Timestamp(start_date)).days,\n",
    "        },\n",
    "    )\n",
    "    backoff = 1\n",
    "    while (\n",
    "        response.json()[\"data\"][\"items\"][0][\"historicalSeries\"].get(\n",
    "            \"historicalQuoteData\"\n",
    "        )\n",
    "        is None\n",
    "    ):\n",
    "        print(f\"Retrying {name}...\")\n",
    "        time.sleep(backoff)\n",
    "        backoff = min(backoff * 2, 60)\n",
    "        response = httpx.get(\n",
    "            \"https://markets.ft.com/research/webservices/securities/v1/historical-series-quotes\",\n",
    "            params={\n",
    "                \"source\": api_key,\n",
    "                \"symbols\": symbol,\n",
    "                \"dayCount\": (pd.Timestamp.today() - pd.Timestamp(start_date)).days,\n",
    "            },\n",
    "        )\n",
    "    df = (\n",
    "        pd.DataFrame(\n",
    "            response.json()[\"data\"][\"items\"][0][\"historicalSeries\"][\n",
    "                \"historicalQuoteData\"\n",
    "            ]\n",
    "        )\n",
    "        .assign(date=lambda df: df[\"date\"].pipe(pd.to_datetime))\n",
    "        .set_index(\"date\")[::-1]\n",
    "    )\n",
    "    time.sleep(1)\n",
    "    df.to_csv(f\"./data/{name}.csv\")"
   ]
  }
 ],
 "metadata": {
  "kernelspec": {
   "display_name": ".venv",
   "language": "python",
   "name": "python3"
  },
  "language_info": {
   "codemirror_mode": {
    "name": "ipython",
    "version": 3
   },
   "file_extension": ".py",
   "mimetype": "text/x-python",
   "name": "python",
   "nbconvert_exporter": "python",
   "pygments_lexer": "ipython3",
   "version": "3.12.10"
  }
 },
 "nbformat": 4,
 "nbformat_minor": 5
}
