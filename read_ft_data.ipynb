{
 "cells": [
  {
   "cell_type": "code",
   "execution_count": 58,
   "metadata": {},
   "outputs": [],
   "source": [
    "import os\n",
    "import time\n",
    "from selenium.webdriver import Firefox, FirefoxOptions, FirefoxService\n",
    "import pandas as pd"
   ]
  },
  {
   "cell_type": "code",
   "execution_count": 59,
   "metadata": {},
   "outputs": [],
   "source": [
    "from selenium.webdriver.support.select import Select"
   ]
  },
  {
   "cell_type": "code",
   "execution_count": 60,
   "metadata": {},
   "outputs": [
    {
     "name": "stderr",
     "output_type": "stream",
     "text": [
      "C:\\Users\\leowy\\AppData\\Local\\Temp\\ipykernel_972\\1079762744.py:2: DeprecationWarning: Setting a profile has been deprecated. Please use the set_preference and install_addons methods\n",
      "  options.profile = 'C:\\\\Users\\\\leowy\\\\AppData\\\\Roaming\\\\Mozilla\\\\Firefox\\\\Profiles\\\\zqu1wxis.default-release-1683035901305'\n",
      "C:\\Users\\leowy\\AppData\\Local\\Temp\\ipykernel_972\\1079762744.py:3: DeprecationWarning: Firefox will soon stop logging to geckodriver.log by default; Specify desired logs with log_output\n",
      "  service = FirefoxService(executable_path='C:\\\\Users\\\\leowy\\\\anaconda3\\\\envs\\\\market-returns\\\\Scripts\\\\geckodriver.exe')\n"
     ]
    }
   ],
   "source": [
    "options = FirefoxOptions()\n",
    "options.profile = 'C:\\\\Users\\\\leowy\\\\AppData\\\\Roaming\\\\Mozilla\\\\Firefox\\\\Profiles\\\\zqu1wxis.default-release-1683035901305'\n",
    "service = FirefoxService(executable_path='C:\\\\Users\\\\leowy\\\\anaconda3\\\\envs\\\\market-returns\\\\Scripts\\\\geckodriver.exe')"
   ]
  },
  {
   "cell_type": "code",
   "execution_count": 61,
   "metadata": {},
   "outputs": [],
   "source": [
    "driver = Firefox(options=options, service=service)\n",
    "driver.implicitly_wait(0.5)"
   ]
  },
  {
   "cell_type": "code",
   "execution_count": 62,
   "metadata": {},
   "outputs": [],
   "source": [
    "driver.get('https://markets.ft.com/data/indices/tearsheet/historical?s=TFTSTIU:FSI')"
   ]
  },
  {
   "cell_type": "code",
   "execution_count": 63,
   "metadata": {},
   "outputs": [],
   "source": [
    "driver.find_element(by='class name', value='mod-ui-filter-overlay__filter-toggle').click()"
   ]
  },
  {
   "cell_type": "code",
   "execution_count": 64,
   "metadata": {},
   "outputs": [],
   "source": [
    "def select_start_date(driver: Firefox, year: int):\n",
    "    driver.find_elements(by='class name', value='picker__input')[0].click()\n",
    "    \n",
    "    if year == 2008:\n",
    "        start_year = driver.find_element(by='xpath', value='/html/body/div[3]/div[3]/section/div[1]/div/div/div[1]/div[1]/div/form/fieldset/span/div[1]/div[2]/div/div/div/div/div/div/select')\n",
    "        start_year_select = Select(start_year)\n",
    "        start_year.click()\n",
    "        start_year_select.select_by_index(0)\n",
    "        \n",
    "    start_year = driver.find_element(by='xpath', value='/html/body/div[3]/div[3]/section/div[1]/div/div/div[1]/div[1]/div/form/fieldset/span/div[1]/div[2]/div/div/div/div/div/div/select')\n",
    "    start_year_select = Select(start_year)\n",
    "    start_year.click()\n",
    "    start_year_select.select_by_value(f'{year}')\n",
    "    \n",
    "    for i in range(15):\n",
    "        start_month = driver.find_element(by='xpath', value='/html/body/div[3]/div[3]/section/div[1]/div/div/div[1]/div[1]/div/form/fieldset/span/div[1]/div[2]/div/div/div/div/div/div/div[1]')\n",
    "        if start_month.text == 'January':\n",
    "            break\n",
    "        start_prev = driver.find_element(by='xpath', value='/html/body/div[3]/div[3]/section/div[1]/div/div/div[1]/div[1]/div/form/fieldset/span/div[1]/div[2]/div/div/div/div/div/div/div[2]')\n",
    "        start_prev.click()\n",
    "        \n",
    "    start_date_cell = driver.find_element(by='css selector', value=f'div[aria-label=\"1 Jan, {year}\"]')\n",
    "    start_date_cell.click()"
   ]
  },
  {
   "cell_type": "code",
   "execution_count": 65,
   "metadata": {},
   "outputs": [],
   "source": [
    "def select_end_date(driver: Firefox, year: int):\n",
    "    end_date_field = driver.find_elements(by='class name', value='picker__input')[1]\n",
    "    end_date_field.click()\n",
    "    \n",
    "    if year == 2008:\n",
    "        end_year = driver.find_element(by='xpath', value='/html/body/div[3]/div[3]/section/div[1]/div/div/div[1]/div[1]/div/form/fieldset/span/div[2]/div[2]/div/div/div/div/div/div/select')\n",
    "        end_year_select = Select(end_year)\n",
    "        end_year.click()\n",
    "        end_year_select.select_by_index(0)\n",
    "    \n",
    "    end_year = driver.find_element(by='xpath', value='/html/body/div[3]/div[3]/section/div[1]/div/div/div[1]/div[1]/div/form/fieldset/span/div[2]/div[2]/div/div/div/div/div/div/select')\n",
    "    end_year_select = Select(end_year)\n",
    "    end_year.click()\n",
    "    end_year_select.select_by_value(f'{year}')\n",
    "    \n",
    "    if not year == pd.to_datetime('today').year:\n",
    "        for i in range(15):\n",
    "            end_month = driver.find_element(by='xpath', value='/html/body/div[3]/div[3]/section/div[1]/div/div/div[1]/div[1]/div/form/fieldset/span/div[2]/div[2]/div/div/div/div/div/div/div[1]')\n",
    "            if end_month.text == 'December':\n",
    "                break\n",
    "            end_next = driver.find_element(by='xpath', value='/html/body/div[3]/div[3]/section/div[1]/div/div/div[1]/div[1]/div/form/fieldset/span/div[2]/div[2]/div/div/div/div/div/div/div[3]')\n",
    "            end_next.click()\n",
    "            \n",
    "        end_date_cell = driver.find_element(by='css selector', value=f'div[aria-label=\"31 Dec, {year}\"]')\n",
    "        end_date_cell.click()\n",
    "    \n",
    "    else:\n",
    "        for i in range(15):\n",
    "            end_month = driver.find_element(by='xpath', value='/html/body/div[3]/div[3]/section/div[1]/div/div/div[1]/div[1]/div/form/fieldset/span/div[2]/div[2]/div/div/div/div/div/div/div[1]')\n",
    "            if end_month.text == pd.to_datetime('today').strftime('%B'):\n",
    "                break\n",
    "            end_next = driver.find_element(by='xpath', value='/html/body/div[3]/div[3]/section/div[1]/div/div/div[1]/div[1]/div/form/fieldset/span/div[2]/div[2]/div/div/div/div/div/div/div[3]')\n",
    "            end_next.click()\n",
    "            \n",
    "        end_date_cell = driver.find_element(by='css selector', value=f'div[aria-label=\"{pd.to_datetime(\"today\").strftime(\"%d %b, %Y\")}\"]')\n",
    "        end_date_cell.click()"
   ]
  },
  {
   "cell_type": "code",
   "execution_count": 66,
   "metadata": {},
   "outputs": [],
   "source": [
    "rows = []\n",
    "\n",
    "for year in range(2008, pd.to_datetime('today').year + 1):\n",
    "    \n",
    "    if year == 2008:\n",
    "        select_start_date(driver, year)\n",
    "        select_end_date(driver, year)\n",
    "    \n",
    "    else:\n",
    "        select_end_date(driver, year)\n",
    "        select_start_date(driver, year)\n",
    "        \n",
    "    time.sleep(2.5)\n",
    "    \n",
    "    rows.extend(driver.find_element(by='class name', value='mod-tearsheet-historical-prices__results').text.split('\\n')[:0:-1])"
   ]
  },
  {
   "cell_type": "code",
   "execution_count": 67,
   "metadata": {},
   "outputs": [],
   "source": [
    "sti = pd.DataFrame([row.rsplit(' ', maxsplit=5) for row in rows[1:]], columns=['Date', 'Open', 'High', 'Low', 'Close', 'Volume'])"
   ]
  },
  {
   "cell_type": "code",
   "execution_count": 68,
   "metadata": {},
   "outputs": [],
   "source": [
    "sti['Date'] = sti['Date'].apply(pd.to_datetime)"
   ]
  },
  {
   "cell_type": "code",
   "execution_count": 69,
   "metadata": {},
   "outputs": [],
   "source": [
    "sti = sti.replace(',','', regex=True)"
   ]
  },
  {
   "cell_type": "code",
   "execution_count": 70,
   "metadata": {},
   "outputs": [],
   "source": [
    "sti[['Open', 'High', 'Low', 'Close', 'Volume']] = sti[['Open', 'High', 'Low', 'Close', 'Volume']].astype(float)"
   ]
  },
  {
   "cell_type": "code",
   "execution_count": 71,
   "metadata": {},
   "outputs": [],
   "source": [
    "sti.set_index('Date', drop=True).to_csv('data/Straits Times Index USD Gross.csv')"
   ]
  },
  {
   "cell_type": "code",
   "execution_count": 72,
   "metadata": {},
   "outputs": [],
   "source": [
    "driver.quit()"
   ]
  }
 ],
 "metadata": {
  "kernelspec": {
   "display_name": "market-returns",
   "language": "python",
   "name": "python3"
  },
  "language_info": {
   "codemirror_mode": {
    "name": "ipython",
    "version": 3
   },
   "file_extension": ".py",
   "mimetype": "text/x-python",
   "name": "python",
   "nbconvert_exporter": "python",
   "pygments_lexer": "ipython3",
   "version": "3.10.12"
  },
  "orig_nbformat": 4
 },
 "nbformat": 4,
 "nbformat_minor": 2
}
