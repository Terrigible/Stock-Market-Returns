{
    "cells": [
        {
            "cell_type": "code",
            "execution_count": 1,
            "metadata": {},
            "outputs": [],
            "source": [
                "import os\n",
                "import time\n",
                "from selenium.webdriver import Firefox, FirefoxOptions, FirefoxService\n",
                "import pandas as pd"
            ]
        },
        {
            "cell_type": "code",
            "execution_count": 2,
            "metadata": {},
            "outputs": [],
            "source": [
                "from selenium.webdriver.support.select import Select\n",
                "from selenium.webdriver.support.wait import WebDriverWait\n",
                "import selenium.webdriver.support.expected_conditions as EC"
            ]
        },
        {
            "cell_type": "code",
            "execution_count": 3,
            "metadata": {},
            "outputs": [],
            "source": [
                "symbols = [\n",
                "    ('GMO Quality Investment Fund', 'IE00B3SBSR82:USD', '2010-11-10'),\n",
                "    ]"
            ]
        },
        {
            "cell_type": "code",
            "execution_count": 4,
            "metadata": {},
            "outputs": [],
            "source": [
                "def select_start_date(driver: Firefox, start_date: pd.Timestamp):\n",
                "    driver.find_elements(by='class name', value='picker__input')[0].click()\n",
                "    start_date_picker_xpath = '/html/body/div[3]/div[2]/section[3]/div[1]/div/div/div[1]/div[1]/div/form/fieldset/span/div[1]'\n",
                "    while True:\n",
                "        start_year = driver.find_element(by='xpath', value=f'{start_date_picker_xpath}/div[2]/div/div/div/div/div/div/select')\n",
                "        start_year_select = Select(start_year)\n",
                "        if int(start_year_select.options[0].text) <= start_date.year:\n",
                "            break\n",
                "        start_year.click()\n",
                "        start_year_select.select_by_index(0)\n",
                "\n",
                "    start_year = driver.find_element(by='xpath', value=f'{start_date_picker_xpath}/div[2]/div/div/div/div/div/div/select')\n",
                "    start_year_select = Select(start_year)\n",
                "    start_year.click()\n",
                "    start_year_select.select_by_value(f'{start_date.year}')\n",
                "\n",
                "    for i in range(15):\n",
                "        start_month = driver.find_element(by='xpath', value=f'{start_date_picker_xpath}/div[2]/div/div/div/div/div/div/div[1]')\n",
                "        if start_month.text == start_date.strftime('%B'):\n",
                "            break\n",
                "        start_prev = driver.find_element(by='xpath', value=f'{start_date_picker_xpath}/div[2]/div/div/div/div/div/div/div[2]')\n",
                "        start_prev.click()\n",
                "\n",
                "    start_date_cell = driver.find_element(by='xpath', value=start_date_picker_xpath).find_element(by='css selector', value=f'div[aria-label=\"{start_date.strftime(\"%#d %b, %Y\")}\"]')\n",
                "    start_date_cell.click()"
            ]
        },
        {
            "cell_type": "code",
            "execution_count": 5,
            "metadata": {},
            "outputs": [],
            "source": [
                "def select_end_date(driver: Firefox, end_date: pd.Timestamp):\n",
                "    end_date_field = driver.find_elements(by='class name', value='picker__input')[1]\n",
                "    end_date_field.click()\n",
                "    end_date_picker_xpath = '/html/body/div[3]/div[2]/section[3]/div[1]/div/div/div[1]/div[1]/div/form/fieldset/span/div[2]'\n",
                "\n",
                "    while True:\n",
                "        end_year = driver.find_element(by='xpath', value=f'{end_date_picker_xpath}/div[2]/div/div/div/div/div/div/select')\n",
                "        end_year_select = Select(end_year)\n",
                "        if int(end_year_select.options[0].text) <= end_date.year:\n",
                "            break\n",
                "        end_year.click()\n",
                "        end_year_select.select_by_index(0)\n",
                "\n",
                "    end_year = driver.find_element(by='xpath', value=f'{end_date_picker_xpath}/div[2]/div/div/div/div/div/div/select')\n",
                "    end_year_select = Select(end_year)\n",
                "    end_year.click()\n",
                "    end_year_select.select_by_value(f'{end_date.year}')\n",
                "\n",
                "    for i in range(15):\n",
                "        end_month = driver.find_element(by='xpath', value=f'{end_date_picker_xpath}/div[2]/div/div/div/div/div/div/div[1]')\n",
                "        if end_month.text == end_date.strftime('%B'):\n",
                "            break\n",
                "        end_next = driver.find_element(by='xpath', value=f'{end_date_picker_xpath}/div[2]/div/div/div/div/div/div/div[3]')\n",
                "        end_next.click()\n",
                "\n",
                "    end_date_cell = driver.find_element(by='xpath', value=end_date_picker_xpath).find_element(by='css selector', value=f'div[aria-label=\"{end_date.strftime(\"%#d %b, %Y\")}\"]')\n",
                "    end_date_cell.click()"
            ]
        },
        {
            "cell_type": "code",
            "execution_count": 6,
            "metadata": {},
            "outputs": [],
            "source": [
                "def get_data(driver: Firefox, beginning_date: pd.Timestamp):\n",
                "    rows: list[str] = []\n",
                "\n",
                "    for start_date, end_date in zip(\n",
                "        pd.DatetimeIndex([beginning_date]).union(pd.date_range(start=beginning_date, end='today', freq='YS')),\n",
                "        pd.date_range(start=beginning_date, end=pd.to_datetime('today'), freq='YE').union([pd.Timestamp.today().normalize()])\n",
                "    ):\n",
                "\n",
                "        if start_date == beginning_date:\n",
                "            select_start_date(driver, start_date)\n",
                "            WebDriverWait(driver, 50).until(EC.invisibility_of_element(('class name', 'mod-ui-loading__overlay')))\n",
                "            select_end_date(driver, end_date)\n",
                "\n",
                "        else:\n",
                "            select_end_date(driver, end_date)\n",
                "            WebDriverWait(driver, 50).until(EC.invisibility_of_element(('class name', 'mod-ui-loading__overlay')))\n",
                "            select_start_date(driver, start_date)\n",
                "\n",
                "        WebDriverWait(driver, 50).until(EC.invisibility_of_element(('class name', 'mod-ui-loading__overlay')))\n",
                "\n",
                "        rows.extend(driver.find_element(by='class name', value='mod-tearsheet-historical-prices__results').text.split('\\n')[:0:-1])\n",
                "        \n",
                "    return rows"
            ]
        },
        {
            "cell_type": "code",
            "execution_count": 7,
            "metadata": {},
            "outputs": [],
            "source": [
                "def parse_rows(rows: list[str]):\n",
                "    df = pd.DataFrame([row.rsplit(' ', maxsplit=5) for row in rows], columns=['Date', 'Open', 'High', 'Low', 'Close', 'Volume'])\n",
                "    df['Date'] = df['Date'].apply(pd.to_datetime)\n",
                "    df = df.replace(',', '', regex=True)\n",
                "    df[['Open', 'High', 'Low', 'Close', 'Volume']] = df[['Open', 'High', 'Low', 'Close', 'Volume']].astype(float)\n",
                "    return df"
            ]
        },
        {
            "cell_type": "code",
            "execution_count": 8,
            "metadata": {},
            "outputs": [],
            "source": [
                "def main():\n",
                "    options = FirefoxOptions()\n",
                "    options.profile = os.environ['FIREFOX_PROFILE_PATH']\n",
                "    driver = Firefox(options=options)\n",
                "    driver.implicitly_wait(0.5)\n",
                "    for name, symbol, beginning_date in symbols:\n",
                "        driver.get(f'https://markets.ft.com/data/funds/tearsheet/historical?s={symbol}')\n",
                "        driver.find_element(by='class name', value='mod-ui-filter-overlay__filter-toggle').click()\n",
                "        rows = get_data(driver, pd.Timestamp(beginning_date))\n",
                "        df = parse_rows(rows)\n",
                "        df.set_index('Date', drop=True).to_csv(f'data/{name}.csv')\n",
                "    driver.quit()"
            ]
        },
        {
            "cell_type": "code",
            "execution_count": 9,
            "metadata": {},
            "outputs": [],
            "source": [
                "if __name__ == '__main__':\n",
                "    main()"
            ]
        }
    ],
    "metadata": {
        "kernelspec": {
            "display_name": "market-returns",
            "language": "python",
            "name": "python3"
        },
        "language_info": {
            "codemirror_mode": {
                "name": "ipython",
                "version": 3
            },
            "file_extension": ".py",
            "mimetype": "text/x-python",
            "name": "python",
            "nbconvert_exporter": "python",
            "pygments_lexer": "ipython3",
            "version": "3.12.2"
        },
        "orig_nbformat": 4
    },
    "nbformat": 4,
    "nbformat_minor": 2
}
