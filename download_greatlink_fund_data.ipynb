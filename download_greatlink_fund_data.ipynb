{
 "cells": [
  {
   "cell_type": "code",
   "execution_count": null,
   "metadata": {},
   "outputs": [],
   "source": [
    "from io import StringIO\n",
    "from itertools import chain\n",
    "\n",
    "import httpx\n",
    "import pandas as pd\n"
   ]
  },
  {
   "cell_type": "code",
   "execution_count": null,
   "metadata": {},
   "outputs": [],
   "source": [
    "res = httpx.get(\n",
    "    \"https://digital.feprecisionplus.com/greateasternlife/en-GB/GreatEastern_V2/DownloadTool/FundOptions\",\n",
    "    params={\n",
    "        \"GrsProjectId\": 95400076,\n",
    "        \"ProjectName\": \"greateasternlife\",\n",
    "        \"ToolId\": 16,\n",
    "        \"LanguageId\": 1,\n",
    "        \"LanguageCode\": \"en-GB\",\n",
    "    },\n",
    ")"
   ]
  },
  {
   "cell_type": "code",
   "execution_count": null,
   "metadata": {},
   "outputs": [],
   "source": [
    "all_funds = pd.read_xml(StringIO(res.json()[\"Html\"]), xpath=\"//option\").dropna()"
   ]
  },
  {
   "cell_type": "code",
   "execution_count": null,
   "metadata": {},
   "outputs": [],
   "source": [
    "greatlink_filter = httpx.get(\n",
    "    \"https://digitalfundservice.feprecisionplus.com/FundDataService.svc/GetRowIdList\",\n",
    "    params={\n",
    "        \"jsonString\": '{\"FilteringOptions\":{\"undefined\":0,\"CategoryId\":\"GRE\",\"RangeId\":null,\"RangeName\":\"\",\"Category2Id\":null,\"PriipProductCode\":null,\"DefaultCategoryId\":null,\"DefaultCategory2Id\":null,\"ForSaleIn\":null,\"ShowMainUnits\":false,\"MPCategoryCode\":null},\"ProjectName\":\"greateasternlife\",\"LanguageCode\":\"en-GB\",\"UserType\":\"\",\"Region\":\"\",\"LanguageId\":\"1\",\"Theme\":\"GreatEastern_V2\",\"SortingStyle\":\"1\",\"PageNo\":1,\"PageSize\":10,\"OrderBy\":\"UnitName:init\",\"IsAscOrder\":true,\"OverrideDocumentCountryCode\":null,\"ToolId\":\"1\",\"PrefetchPages\":200,\"PrefetchPageStart\":1,\"OverridenThemeName\":\"GreatEastern_V2\",\"ForSaleIn\":\"\",\"ValidateFeResearchAccess\":false,\"HasFeResearchFullAccess\":false,\"EnableSedolSearch\":\"false\",\"GrsProjectId\":\"95400076\",\"ShowMainUnitExpansion\":false,\"UseCombinedOngoingChargeTER\":false}'\n",
    "    },\n",
    ")"
   ]
  },
  {
   "cell_type": "code",
   "execution_count": null,
   "metadata": {},
   "outputs": [],
   "source": [
    "greatlink_rows = list(\n",
    "    chain.from_iterable(\n",
    "        [map(int, row.split(\",\")) for row in greatlink_filter.json()[\"RowIdList\"]]\n",
    "    )\n",
    ")"
   ]
  },
  {
   "cell_type": "code",
   "execution_count": null,
   "metadata": {},
   "outputs": [],
   "source": [
    "greatlink_with_dividend_filter = httpx.get(\n",
    "    \"https://digitalfundservice.feprecisionplus.com/FundDataService.svc/GetRowIdList\",\n",
    "    params={\n",
    "        \"jsonString\": '{\"FilteringOptions\":{\"undefined\":0,\"CategoryId\":\"GRE\",\"BespokeColumn5\":\"Yes - Payout (with option to reinvest)\",\"RangeId\":null,\"RangeName\":\"\",\"Category2Id\":null,\"PriipProductCode\":null,\"DefaultCategoryId\":null,\"DefaultCategory2Id\":null,\"ForSaleIn\":null,\"ShowMainUnits\":false,\"MPCategoryCode\":null},\"ProjectName\":\"greateasternlife\",\"LanguageCode\":\"en-GB\",\"UserType\":\"\",\"Region\":\"\",\"LanguageId\":\"1\",\"Theme\":\"GreatEastern_V2\",\"SortingStyle\":\"1\",\"PageNo\":1,\"PageSize\":10,\"OrderBy\":\"UnitName:init\",\"IsAscOrder\":true,\"OverrideDocumentCountryCode\":null,\"ToolId\":\"1\",\"PrefetchPages\":200,\"PrefetchPageStart\":1,\"OverridenThemeName\":\"GreatEastern_V2\",\"ForSaleIn\":\"\",\"ValidateFeResearchAccess\":false,\"HasFeResearchFullAccess\":false,\"EnableSedolSearch\":\"false\",\"GrsProjectId\":\"95400076\",\"ShowMainUnitExpansion\":false,\"UseCombinedOngoingChargeTER\":false}'\n",
    "    },\n",
    ")"
   ]
  },
  {
   "cell_type": "code",
   "execution_count": null,
   "metadata": {},
   "outputs": [],
   "source": [
    "greatlink_with_dividend_rows = list(\n",
    "    chain.from_iterable(\n",
    "        [\n",
    "            map(int, row.split(\",\"))\n",
    "            for row in greatlink_with_dividend_filter.json()[\"RowIdList\"]\n",
    "        ]\n",
    "    )\n",
    ")"
   ]
  },
  {
   "cell_type": "code",
   "execution_count": null,
   "metadata": {},
   "outputs": [],
   "source": [
    "for _, row in all_funds.loc[greatlink_rows].iterrows():\n",
    "    res = httpx.get(\n",
    "        \"https://digital.feprecisionplus.com/greateasternlife/en-GB/GreatEastern_V2/DownloadTool/GetPriceHistoryFile\",\n",
    "        params={\n",
    "            \"modelString\": {\n",
    "                \"GrsProjectId\": \"95400076\",\n",
    "                \"ProjectName\": \"greateasternlife\",\n",
    "                \"ToolId\": 16,\n",
    "                \"LanguageId\": \"1\",\n",
    "                \"LanguageCode\": \"en-GB\",\n",
    "                \"forSaleIn\": \"\",\n",
    "                \"FSIexclCT\": \"\",\n",
    "            },\n",
    "            \"filtersString\": {\n",
    "                \"CitiCode\": row[\"value\"],\n",
    "                \"Universe\": \"SI\",\n",
    "                \"TypeCode\": row[\"typecode\"],\n",
    "                \"FundName\": row[\"option\"],\n",
    "                \"BaseCurrency\": \"SGD\",\n",
    "                \"PriceType\": 2,\n",
    "                \"TimePeriod\": \"\",\n",
    "            },\n",
    "        },\n",
    "        timeout=30,\n",
    "    )\n",
    "    if res.is_success:\n",
    "        with open(\n",
    "            f\"data/GreatLink/{res.headers['Content-Disposition'].split('filename=')[1].split('\"')[1].split('_')[0]}.xlsx\",\n",
    "            \"wb\",\n",
    "        ) as f:\n",
    "            f.write(res.content)\n",
    "    else:\n",
    "        print(\n",
    "            f\"Failed to download {row['option']} {row['typecode']}: {res.status_code} {res.text}\"\n",
    "        )"
   ]
  },
  {
   "cell_type": "code",
   "execution_count": null,
   "metadata": {},
   "outputs": [],
   "source": [
    "for _, row in all_funds.loc[greatlink_with_dividend_rows].iterrows():\n",
    "    res = httpx.get(\n",
    "        \"https://digital.feprecisionplus.com/greateasternlife/en-GB/GreatEastern_V2/DownloadTool/GetDividendHistoryFile\",\n",
    "        params={\n",
    "            \"modelString\": {\n",
    "                \"GrsProjectId\": \"95400076\",\n",
    "                \"ProjectName\": \"greateasternlife\",\n",
    "                \"ToolId\": 16,\n",
    "                \"LanguageId\": \"1\",\n",
    "                \"LanguageCode\": \"en-GB\",\n",
    "                \"forSaleIn\": \"\",\n",
    "                \"FSIexclCT\": \"\",\n",
    "            },\n",
    "            \"filtersString\": {\n",
    "                \"TypeCode\": row[\"typecode\"],\n",
    "                \"FundName\": row[\"option\"],\n",
    "                \"BaseCurrency\": \"SGD\",\n",
    "                \"PriceType\": 2,\n",
    "                \"TimePeriod\": \"\",\n",
    "            },\n",
    "        },\n",
    "        timeout=30,\n",
    "    )\n",
    "    if res.is_success:\n",
    "        with open(\n",
    "            f\"data/GreatLink/{res.headers['Content-Disposition'].split('filename=')[1].split('\"')[1].split('_')[0]}_Dividends.xlsx\",\n",
    "            \"wb\",\n",
    "        ) as f:\n",
    "            f.write(res.content)\n",
    "    else:\n",
    "        print(\n",
    "            f\"Failed to download {row['option']} {row['typecode']}: {res.status_code} {res.text}\"\n",
    "        )"
   ]
  }
 ],
 "metadata": {
  "kernelspec": {
   "display_name": ".venv",
   "language": "python",
   "name": "python3"
  },
  "language_info": {
   "codemirror_mode": {
    "name": "ipython",
    "version": 3
   },
   "file_extension": ".py",
   "mimetype": "text/x-python",
   "name": "python",
   "nbconvert_exporter": "python",
   "pygments_lexer": "ipython3",
   "version": "3.12.10"
  }
 },
 "nbformat": 4,
 "nbformat_minor": 2
}
