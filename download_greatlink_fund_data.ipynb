{
 "cells": [
  {
   "cell_type": "code",
   "execution_count": 1,
   "metadata": {},
   "outputs": [],
   "source": [
    "from selenium.webdriver import Firefox, ChromiumEdge, EdgeOptions\n",
    "from selenium.webdriver.support.select import Select\n",
    "from selenium.webdriver.support.wait import WebDriverWait\n",
    "import selenium.webdriver.support.expected_conditions as EC"
   ]
  },
  {
   "cell_type": "code",
   "execution_count": 2,
   "metadata": {},
   "outputs": [],
   "source": [
    "import time"
   ]
  },
  {
   "cell_type": "code",
   "execution_count": 3,
   "metadata": {},
   "outputs": [],
   "source": [
    "import os"
   ]
  },
  {
   "cell_type": "code",
   "execution_count": 4,
   "metadata": {},
   "outputs": [],
   "source": [
    "from glob import glob"
   ]
  },
  {
   "cell_type": "code",
   "execution_count": 5,
   "metadata": {},
   "outputs": [],
   "source": [
    "options = EdgeOptions()\n",
    "prefs = {\n",
    "   'browser':{\n",
    "      'show_hub_popup_on_download_start': False\n",
    "  },\n",
    "   'user_experience_metrics':{\n",
    "      'personalization_data_consent_enabled': True\n",
    "  }\n",
    "}\n",
    "options.add_experimental_option('prefs', prefs)"
   ]
  },
  {
   "cell_type": "code",
   "execution_count": 6,
   "metadata": {},
   "outputs": [],
   "source": [
    "driver = ChromiumEdge(options=options)"
   ]
  },
  {
   "cell_type": "code",
   "execution_count": 7,
   "metadata": {},
   "outputs": [],
   "source": [
    "driver.implicitly_wait(1)"
   ]
  },
  {
   "cell_type": "code",
   "execution_count": 8,
   "metadata": {},
   "outputs": [],
   "source": [
    "driver.get('https://digital.feprecisionplus.com/greateasternlife')"
   ]
  },
  {
   "cell_type": "code",
   "execution_count": 9,
   "metadata": {},
   "outputs": [],
   "source": [
    "WebDriverWait(driver, 60).until(EC.invisibility_of_element(('id', 'loading-indicator-undefined-overlay')))\n",
    "driver.find_element('id', 'lblchkCategoryId-1-1').click()"
   ]
  },
  {
   "cell_type": "code",
   "execution_count": 10,
   "metadata": {},
   "outputs": [
    {
     "data": {
      "text/plain": [
       "True"
      ]
     },
     "execution_count": 10,
     "metadata": {},
     "output_type": "execute_result"
    }
   ],
   "source": [
    "WebDriverWait(driver, 60).until(EC.invisibility_of_element(('id', 'loading-indicator-undefined-overlay')))"
   ]
  },
  {
   "cell_type": "code",
   "execution_count": 11,
   "metadata": {},
   "outputs": [],
   "source": [
    "for _ in range(4):\n",
    "    WebDriverWait(driver, 60).until(EC.invisibility_of_element(('id', 'loading-indicator-undefined-overlay')))\n",
    "    time.sleep(1)\n",
    "    download_icons = driver.find_elements('class name', 'fe-download-icon')\n",
    "    visible_icons = [download_icon for download_icon in download_icons if download_icon.is_displayed()]\n",
    "    for visible_icon in visible_icons:\n",
    "        visible_icon.click()\n",
    "        time.sleep(1)\n",
    "        driver.find_element('xpath', '/html/body/div[9]/div[2]/div[1]/div/div/div[2]/div[1]/div[2]/div/div[2]/span[2]/form/div/a').click()\n",
    "        time.sleep(0.5)\n",
    "        driver.find_elements('xpath', '/html/body/div[9]/div[2]/div[1]/div/div/div[2]/div[1]/div[2]/div/div[2]/span[2]/form/div/ul/li/a')[-1].click()\n",
    "        time.sleep(0.5)\n",
    "        driver.find_element('id', 'btnCSVPriceHistory').click()\n",
    "        for i in range(20):\n",
    "            if glob(os.path.join(os.environ['USERPROFILE'], 'Downloads', 'Great*Download*.xlsx')):\n",
    "                break\n",
    "            time.sleep(1)\n",
    "        else:\n",
    "            raise TimeoutError\n",
    "        time.sleep(1)\n",
    "        for source_file in glob(os.path.join(os.environ['USERPROFILE'], 'Downloads', 'Great*Download*.xlsx')):\n",
    "            destination_file = os.path.join(os.getcwd(), 'data', 'GreatLink', f'{os.path.basename(source_file).split(\"_\")[0]}.xlsx')\n",
    "            if os.path.exists(destination_file):\n",
    "                os.remove(destination_file)\n",
    "            os.rename(source_file, destination_file)\n",
    "        time.sleep(0.5)\n",
    "        driver.find_element('xpath', '/html/body/div[9]/div[1]/button').click()\n",
    "        time.sleep(0.5)\n",
    "    WebDriverWait(driver, 60).until(EC.invisibility_of_element(('id', 'loading-indicator-undefined-overlay')))\n",
    "    driver.find_element('xpath', '/html/body/div[6]/div[1]/div[1]/div/div[1]/div[3]/div[4]/table/tfoot/tr/td/div/div/a[4]').click()\n",
    "    "
   ]
  },
  {
   "cell_type": "code",
   "execution_count": 12,
   "metadata": {},
   "outputs": [
    {
     "data": {
      "text/plain": [
       "True"
      ]
     },
     "execution_count": 12,
     "metadata": {},
     "output_type": "execute_result"
    }
   ],
   "source": [
    "WebDriverWait(driver, 60).until(EC.invisibility_of_element(('id', 'loading-indicator-undefined-overlay')))\n",
    "driver.find_element('id', 'lblchkBespokeColumn5-1-2').click()\n",
    "WebDriverWait(driver, 60).until(EC.invisibility_of_element(('id', 'loading-indicator-undefined-overlay')))"
   ]
  },
  {
   "cell_type": "code",
   "execution_count": 13,
   "metadata": {},
   "outputs": [],
   "source": [
    "WebDriverWait(driver, 60).until(EC.invisibility_of_element(('id', 'loading-indicator-undefined-overlay')))\n",
    "time.sleep(1)\n",
    "download_icons = driver.find_elements('class name', 'fe-download-icon')\n",
    "visible_icons = [download_icon for download_icon in download_icons if download_icon.is_displayed()]\n",
    "for visible_icon in visible_icons:\n",
    "    visible_icon.click()\n",
    "    time.sleep(1)\n",
    "    driver.find_element('id', 'radio-dividend').click()\n",
    "    time.sleep(1)\n",
    "    driver.find_element('xpath', '/html/body/div[9]/div[2]/div[1]/div/div/div[3]/div[1]/div[2]/div/div[2]/span[2]/form/div/a').click()\n",
    "    time.sleep(1)\n",
    "    driver.find_elements('xpath', '/html/body/div[9]/div[2]/div[1]/div/div/div[3]/div[1]/div[2]/div/div[2]/span[2]/form/div/ul/li/a')[-1].click()\n",
    "    time.sleep(1)\n",
    "    driver.find_element('id', 'btnCSVDividendHistory').click()\n",
    "    for i in range(20):\n",
    "        if glob(os.path.join(os.environ['USERPROFILE'], 'Downloads', 'Great*Download*.xlsx')):\n",
    "            break\n",
    "        time.sleep(1)\n",
    "    else:\n",
    "        raise TimeoutError\n",
    "    time.sleep(1)\n",
    "    for source_file in glob(os.path.join(os.environ['USERPROFILE'], 'Downloads', 'Great*Download*.xlsx')):\n",
    "        destination_file = os.path.join(os.getcwd(), 'data', 'GreatLink', f'{os.path.basename(source_file).split(\"_\")[0]}_Dividends.xlsx')\n",
    "        if os.path.exists(destination_file):\n",
    "            os.remove(destination_file)\n",
    "        os.rename(source_file, destination_file)\n",
    "    time.sleep(0.5)\n",
    "    driver.find_element('xpath', '/html/body/div[9]/div[1]/button').click()\n",
    "    time.sleep(0.5)"
   ]
  },
  {
   "cell_type": "code",
   "execution_count": 14,
   "metadata": {},
   "outputs": [],
   "source": [
    "driver.quit()"
   ]
  }
 ],
 "metadata": {
  "kernelspec": {
   "display_name": "market-returns",
   "language": "python",
   "name": "python3"
  },
  "language_info": {
   "codemirror_mode": {
    "name": "ipython",
    "version": 3
   },
   "file_extension": ".py",
   "mimetype": "text/x-python",
   "name": "python",
   "nbconvert_exporter": "python",
   "pygments_lexer": "ipython3",
   "version": "3.12.3"
  }
 },
 "nbformat": 4,
 "nbformat_minor": 2
}
