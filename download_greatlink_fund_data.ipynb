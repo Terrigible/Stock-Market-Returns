{
 "cells": [
  {
   "cell_type": "code",
   "execution_count": 1,
   "metadata": {},
   "outputs": [],
   "source": [
    "from selenium.webdriver import ChromiumEdge, EdgeOptions\n",
    "from selenium.webdriver.support.wait import WebDriverWait\n",
    "import selenium.webdriver.support.expected_conditions as EC"
   ]
  },
  {
   "cell_type": "code",
   "execution_count": 2,
   "metadata": {},
   "outputs": [],
   "source": [
    "import time"
   ]
  },
  {
   "cell_type": "code",
   "execution_count": 3,
   "metadata": {},
   "outputs": [],
   "source": [
    "import httpx"
   ]
  },
  {
   "cell_type": "code",
   "execution_count": 4,
   "metadata": {},
   "outputs": [],
   "source": [
    "options = EdgeOptions()\n",
    "prefs = {\n",
    "    \"browser\": {\"show_hub_popup_on_download_start\": False},\n",
    "    \"user_experience_metrics\": {\"personalization_data_consent_enabled\": True},\n",
    "}\n",
    "options.add_experimental_option(\"prefs\", prefs)"
   ]
  },
  {
   "cell_type": "code",
   "execution_count": 5,
   "metadata": {},
   "outputs": [],
   "source": [
    "driver = ChromiumEdge(options=options)"
   ]
  },
  {
   "cell_type": "code",
   "execution_count": 6,
   "metadata": {},
   "outputs": [],
   "source": [
    "driver.implicitly_wait(1)"
   ]
  },
  {
   "cell_type": "code",
   "execution_count": 7,
   "metadata": {},
   "outputs": [],
   "source": [
    "driver.get(\"https://digital.feprecisionplus.com/greateasternlife\")"
   ]
  },
  {
   "cell_type": "code",
   "execution_count": 8,
   "metadata": {},
   "outputs": [],
   "source": [
    "WebDriverWait(driver, 60).until(\n",
    "    EC.invisibility_of_element((\"id\", \"loading-indicator-undefined-overlay\"))\n",
    ")\n",
    "time.sleep(1)\n",
    "driver.find_element(\"id\", \"lblchkCategoryId-1-1\").click()"
   ]
  },
  {
   "cell_type": "code",
   "execution_count": 9,
   "metadata": {},
   "outputs": [],
   "source": [
    "WebDriverWait(driver, 60).until(\n",
    "    EC.invisibility_of_element((\"id\", \"loading-indicator-undefined-overlay\"))\n",
    ")\n",
    "time.sleep(1)"
   ]
  },
  {
   "cell_type": "code",
   "execution_count": 10,
   "metadata": {},
   "outputs": [],
   "source": [
    "funds = []\n",
    "for i in range(4):\n",
    "    WebDriverWait(driver, 60).until(\n",
    "        EC.invisibility_of_element((\"id\", \"loading-indicator-undefined-overlay\"))\n",
    "    )\n",
    "    time.sleep(1)\n",
    "    download_icons = driver.find_elements(\"class name\", \"fe-download-icon\")\n",
    "    visible_icons = [\n",
    "        download_icon\n",
    "        for download_icon in download_icons\n",
    "        if download_icon.is_displayed()\n",
    "    ]\n",
    "    for visible_icon in visible_icons:\n",
    "        visible_icon.click()\n",
    "        time.sleep(0.5)\n",
    "        funds.append(\n",
    "            (\n",
    "                visible_icon.get_attribute(\"data-code\"),\n",
    "                driver.find_element(\n",
    "                    \"xpath\", '//*[@id=\"pricefundOptions\"]/div/span[2]/form/div/a'\n",
    "                ).text.split(\"\\n\")[0],\n",
    "            )\n",
    "        )\n",
    "        driver.find_element(\"xpath\", \"/html/body/div[9]/div[1]/button\").click()\n",
    "    WebDriverWait(driver, 60).until(\n",
    "        EC.invisibility_of_element((\"id\", \"loading-indicator-undefined-overlay\"))\n",
    "    )\n",
    "    if i < 3:\n",
    "        driver.find_element(\n",
    "            \"xpath\",\n",
    "            \"/html/body/div[6]/div[1]/div[1]/div/div[1]/div[3]/div[4]/table/tfoot/tr/td/div/div\",\n",
    "        ).find_element(\"class name\", \"ui-paging-next\").click()"
   ]
  },
  {
   "cell_type": "code",
   "execution_count": 11,
   "metadata": {},
   "outputs": [],
   "source": [
    "WebDriverWait(driver, 60).until(\n",
    "    EC.invisibility_of_element((\"id\", \"loading-indicator-undefined-overlay\"))\n",
    ")\n",
    "time.sleep(1)\n",
    "driver.find_element(\"id\", \"lblchkBespokeColumn5-1-2\").click()\n",
    "WebDriverWait(driver, 60).until(\n",
    "    EC.invisibility_of_element((\"id\", \"loading-indicator-undefined-overlay\"))\n",
    ")\n",
    "time.sleep(1)"
   ]
  },
  {
   "cell_type": "code",
   "execution_count": 12,
   "metadata": {},
   "outputs": [
    {
     "data": {
      "text/plain": [
       "True"
      ]
     },
     "execution_count": 12,
     "metadata": {},
     "output_type": "execute_result"
    }
   ],
   "source": [
    "funds_with_dividends = []\n",
    "download_icons = driver.find_elements(\"class name\", \"fe-download-icon\")\n",
    "visible_icons = [\n",
    "    download_icon for download_icon in download_icons if download_icon.is_displayed()\n",
    "]\n",
    "for visible_icon in visible_icons:\n",
    "    visible_icon.click()\n",
    "    time.sleep(0.5)\n",
    "    funds_with_dividends.append(\n",
    "        (\n",
    "            visible_icon.get_attribute(\"data-code\"),\n",
    "            driver.find_element(\n",
    "                \"xpath\", '//*[@id=\"pricefundOptions\"]/div/span[2]/form/div/a'\n",
    "            ).text.split(\"\\n\")[0],\n",
    "        )\n",
    "    )\n",
    "    driver.find_element(\"xpath\", \"/html/body/div[9]/div[1]/button\").click()\n",
    "WebDriverWait(driver, 60).until(\n",
    "    EC.invisibility_of_element((\"id\", \"loading-indicator-undefined-overlay\"))\n",
    ")"
   ]
  },
  {
   "cell_type": "code",
   "execution_count": 13,
   "metadata": {},
   "outputs": [],
   "source": [
    "driver.quit()"
   ]
  },
  {
   "cell_type": "code",
   "execution_count": 14,
   "metadata": {},
   "outputs": [],
   "source": [
    "for fund_code, fund_name in funds:\n",
    "    res = httpx.get(\n",
    "        \"https://digital.feprecisionplus.com/greateasternlife/en-GB/GreatEastern_V2/DownloadTool/GetPriceHistoryFile\",\n",
    "        params={\n",
    "            \"modelString\": {\n",
    "                \"GrsProjectId\": \"95400076\",\n",
    "                \"ProjectName\": \"greateasternlife\",\n",
    "                \"ToolId\": 16,\n",
    "                \"LanguageId\": \"1\",\n",
    "                \"LanguageCode\": \"en-GB\",\n",
    "                \"forSaleIn\": \"\",\n",
    "                \"FSIexclCT\": \"\",\n",
    "            },\n",
    "            \"filtersString\": {\n",
    "                \"CitiCode\": fund_code,\n",
    "                \"Universe\": \"SI\",\n",
    "                \"TypeCode\": f\"FSI:{fund_code}\",\n",
    "                \"FundName\": fund_name,\n",
    "                \"BaseCurrency\": \"SGD\",\n",
    "                \"PriceType\": 2,\n",
    "                \"TimePeriod\": \"\",\n",
    "            },\n",
    "        },\n",
    "        timeout=30,\n",
    "    )\n",
    "    if res.is_success:\n",
    "        with open(\n",
    "            f\"data/GreatLink/{res.headers['Content-Disposition'].split('filename=')[1].split('\"')[1].split('_')[0]}.xlsx\",\n",
    "            \"wb\",\n",
    "        ) as f:\n",
    "            f.write(res.content)\n",
    "    else:\n",
    "        print(\n",
    "            f\"Failed to download {fund_name} {fund_code}: {res.status_code} {res.text}\"\n",
    "        )"
   ]
  },
  {
   "cell_type": "code",
   "execution_count": 15,
   "metadata": {},
   "outputs": [],
   "source": [
    "for fund_code, fund_name in funds_with_dividends:\n",
    "    res = httpx.get(\n",
    "        \"https://digital.feprecisionplus.com/greateasternlife/en-GB/GreatEastern_V2/DownloadTool/GetDividendHistoryFile\",\n",
    "        params={\n",
    "            \"modelString\": {\n",
    "                \"GrsProjectId\": \"95400076\",\n",
    "                \"ProjectName\": \"greateasternlife\",\n",
    "                \"ToolId\": 16,\n",
    "                \"LanguageId\": \"1\",\n",
    "                \"LanguageCode\": \"en-GB\",\n",
    "                \"forSaleIn\": \"\",\n",
    "                \"FSIexclCT\": \"\",\n",
    "            },\n",
    "            \"filtersString\": {\n",
    "                \"TypeCode\": f\"FSI:{fund_code}\",\n",
    "                \"FundName\": fund_name,\n",
    "                \"BaseCurrency\": \"SGD\",\n",
    "                \"PriceType\": 2,\n",
    "                \"TimePeriod\": \"\",\n",
    "            },\n",
    "        },\n",
    "        timeout=30,\n",
    "    )\n",
    "    if res.is_success:\n",
    "        with open(\n",
    "            f\"data/GreatLink/{res.headers['Content-Disposition'].split('filename=')[1].split('\"')[1].split('_')[0]}_Dividends.xlsx\",\n",
    "            \"wb\",\n",
    "        ) as f:\n",
    "            f.write(res.content)\n",
    "    else:\n",
    "        print(\n",
    "            f\"Failed to download {fund_name} {fund_code}: {res.status_code} {res.text}\"\n",
    "        )"
   ]
  }
 ],
 "metadata": {
  "kernelspec": {
   "display_name": ".venv",
   "language": "python",
   "name": "python3"
  },
  "language_info": {
   "codemirror_mode": {
    "name": "ipython",
    "version": 3
   },
   "file_extension": ".py",
   "mimetype": "text/x-python",
   "name": "python",
   "nbconvert_exporter": "python",
   "pygments_lexer": "ipython3",
   "version": "3.12.8"
  }
 },
 "nbformat": 4,
 "nbformat_minor": 2
}
